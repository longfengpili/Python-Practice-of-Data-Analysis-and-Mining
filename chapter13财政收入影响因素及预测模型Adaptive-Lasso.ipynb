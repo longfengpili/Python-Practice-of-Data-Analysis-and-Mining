{
 "cells": [
  {
   "cell_type": "code",
   "execution_count": 1,
   "metadata": {
    "ExecuteTime": {
     "end_time": "2018-10-08T01:03:50.478803Z",
     "start_time": "2018-10-08T01:03:50.471791Z"
    }
   },
   "outputs": [],
   "source": [
    "filename = './原书代码数据/chapter13/demo/data/data1.csv'\n",
    "f = open(filename,'r',encoding='utf8')\n",
    "data = pd.read_csv(f,sep=',')\n",
    "f.close()"
   ]
  },
  {
   "cell_type": "code",
   "execution_count": 2,
   "metadata": {
    "ExecuteTime": {
     "end_time": "2018-10-08T01:03:50.528637Z",
     "start_time": "2018-10-08T01:03:50.480766Z"
    }
   },
   "outputs": [
    {
     "data": {
      "text/html": [
       "<div>\n",
       "<style>\n",
       "    .dataframe thead tr:only-child th {\n",
       "        text-align: right;\n",
       "    }\n",
       "\n",
       "    .dataframe thead th {\n",
       "        text-align: left;\n",
       "    }\n",
       "\n",
       "    .dataframe tbody tr th {\n",
       "        vertical-align: top;\n",
       "    }\n",
       "</style>\n",
       "<table border=\"1\" class=\"dataframe\">\n",
       "  <thead>\n",
       "    <tr style=\"text-align: right;\">\n",
       "      <th></th>\n",
       "      <th>count</th>\n",
       "      <th>mean</th>\n",
       "      <th>std</th>\n",
       "      <th>min</th>\n",
       "      <th>25%</th>\n",
       "      <th>50%</th>\n",
       "      <th>75%</th>\n",
       "      <th>max</th>\n",
       "    </tr>\n",
       "  </thead>\n",
       "  <tbody>\n",
       "    <tr>\n",
       "      <th>x1</th>\n",
       "      <td>20.0000</td>\n",
       "      <td>5579519.9500</td>\n",
       "      <td>1262194.7236</td>\n",
       "      <td>3831732.0000</td>\n",
       "      <td>4525116.7500</td>\n",
       "      <td>5308896.5000</td>\n",
       "      <td>6594657.5000</td>\n",
       "      <td>7599295.0000</td>\n",
       "    </tr>\n",
       "    <tr>\n",
       "      <th>x2</th>\n",
       "      <td>20.0000</td>\n",
       "      <td>765.0350</td>\n",
       "      <td>595.6983</td>\n",
       "      <td>181.5400</td>\n",
       "      <td>302.2200</td>\n",
       "      <td>565.9400</td>\n",
       "      <td>1033.5350</td>\n",
       "      <td>2110.7800</td>\n",
       "    </tr>\n",
       "    <tr>\n",
       "      <th>x3</th>\n",
       "      <td>20.0000</td>\n",
       "      <td>2370.8250</td>\n",
       "      <td>1919.1668</td>\n",
       "      <td>448.1900</td>\n",
       "      <td>976.6600</td>\n",
       "      <td>1586.0200</td>\n",
       "      <td>3294.4850</td>\n",
       "      <td>6882.8500</td>\n",
       "    </tr>\n",
       "    <tr>\n",
       "      <th>x4</th>\n",
       "      <td>20.0000</td>\n",
       "      <td>19644.6850</td>\n",
       "      <td>10203.0217</td>\n",
       "      <td>7571.0000</td>\n",
       "      <td>11827.8150</td>\n",
       "      <td>15943.3750</td>\n",
       "      <td>25889.9375</td>\n",
       "      <td>42049.1400</td>\n",
       "    </tr>\n",
       "    <tr>\n",
       "      <th>x5</th>\n",
       "      <td>20.0000</td>\n",
       "      <td>15870.9480</td>\n",
       "      <td>8199.7714</td>\n",
       "      <td>6212.7000</td>\n",
       "      <td>9669.1625</td>\n",
       "      <td>12345.7050</td>\n",
       "      <td>21332.1850</td>\n",
       "      <td>33156.8300</td>\n",
       "    </tr>\n",
       "    <tr>\n",
       "      <th>x6</th>\n",
       "      <td>20.0000</td>\n",
       "      <td>7350513.6000</td>\n",
       "      <td>621341.8537</td>\n",
       "      <td>6370241.0000</td>\n",
       "      <td>6822868.0000</td>\n",
       "      <td>7314304.0000</td>\n",
       "      <td>7867809.7500</td>\n",
       "      <td>8323096.0000</td>\n",
       "    </tr>\n",
       "    <tr>\n",
       "      <th>x7</th>\n",
       "      <td>20.0000</td>\n",
       "      <td>1712.2390</td>\n",
       "      <td>1184.7138</td>\n",
       "      <td>525.7100</td>\n",
       "      <td>848.4025</td>\n",
       "      <td>1262.0500</td>\n",
       "      <td>2244.1175</td>\n",
       "      <td>4454.5500</td>\n",
       "    </tr>\n",
       "    <tr>\n",
       "      <th>x8</th>\n",
       "      <td>20.0000</td>\n",
       "      <td>5705.7990</td>\n",
       "      <td>4478.4002</td>\n",
       "      <td>985.3100</td>\n",
       "      <td>2077.7650</td>\n",
       "      <td>4104.5850</td>\n",
       "      <td>8500.0875</td>\n",
       "      <td>15420.1400</td>\n",
       "    </tr>\n",
       "    <tr>\n",
       "      <th>x9</th>\n",
       "      <td>20.0000</td>\n",
       "      <td>129.4935</td>\n",
       "      <td>50.5098</td>\n",
       "      <td>60.6200</td>\n",
       "      <td>91.8575</td>\n",
       "      <td>113.5300</td>\n",
       "      <td>169.9625</td>\n",
       "      <td>228.4600</td>\n",
       "    </tr>\n",
       "    <tr>\n",
       "      <th>x10</th>\n",
       "      <td>20.0000</td>\n",
       "      <td>340.2165</td>\n",
       "      <td>251.5779</td>\n",
       "      <td>65.6600</td>\n",
       "      <td>143.2375</td>\n",
       "      <td>235.7600</td>\n",
       "      <td>521.0650</td>\n",
       "      <td>852.5600</td>\n",
       "    </tr>\n",
       "    <tr>\n",
       "      <th>x11</th>\n",
       "      <td>20.0000</td>\n",
       "      <td>103.3050</td>\n",
       "      <td>5.5133</td>\n",
       "      <td>97.5000</td>\n",
       "      <td>99.8000</td>\n",
       "      <td>102.4500</td>\n",
       "      <td>103.9250</td>\n",
       "      <td>120.0000</td>\n",
       "    </tr>\n",
       "    <tr>\n",
       "      <th>x12</th>\n",
       "      <td>20.0000</td>\n",
       "      <td>1.4222</td>\n",
       "      <td>0.2532</td>\n",
       "      <td>1.0290</td>\n",
       "      <td>1.1995</td>\n",
       "      <td>1.4560</td>\n",
       "      <td>1.5782</td>\n",
       "      <td>1.9060</td>\n",
       "    </tr>\n",
       "    <tr>\n",
       "      <th>x13</th>\n",
       "      <td>20.0000</td>\n",
       "      <td>17273.8000</td>\n",
       "      <td>11109.1889</td>\n",
       "      <td>5321.0000</td>\n",
       "      <td>8418.5000</td>\n",
       "      <td>13267.0000</td>\n",
       "      <td>22633.0000</td>\n",
       "      <td>41972.0000</td>\n",
       "    </tr>\n",
       "    <tr>\n",
       "      <th>y</th>\n",
       "      <td>20.0000</td>\n",
       "      <td>618.0840</td>\n",
       "      <td>609.2545</td>\n",
       "      <td>64.8700</td>\n",
       "      <td>175.4350</td>\n",
       "      <td>319.5000</td>\n",
       "      <td>909.2725</td>\n",
       "      <td>2088.1400</td>\n",
       "    </tr>\n",
       "  </tbody>\n",
       "</table>\n",
       "</div>"
      ],
      "text/plain": [
       "       count          mean           std           min           25%  \\\n",
       "x1   20.0000  5579519.9500  1262194.7236  3831732.0000  4525116.7500   \n",
       "x2   20.0000      765.0350      595.6983      181.5400      302.2200   \n",
       "x3   20.0000     2370.8250     1919.1668      448.1900      976.6600   \n",
       "x4   20.0000    19644.6850    10203.0217     7571.0000    11827.8150   \n",
       "x5   20.0000    15870.9480     8199.7714     6212.7000     9669.1625   \n",
       "x6   20.0000  7350513.6000   621341.8537  6370241.0000  6822868.0000   \n",
       "x7   20.0000     1712.2390     1184.7138      525.7100      848.4025   \n",
       "x8   20.0000     5705.7990     4478.4002      985.3100     2077.7650   \n",
       "x9   20.0000      129.4935       50.5098       60.6200       91.8575   \n",
       "x10  20.0000      340.2165      251.5779       65.6600      143.2375   \n",
       "x11  20.0000      103.3050        5.5133       97.5000       99.8000   \n",
       "x12  20.0000        1.4222        0.2532        1.0290        1.1995   \n",
       "x13  20.0000    17273.8000    11109.1889     5321.0000     8418.5000   \n",
       "y    20.0000      618.0840      609.2545       64.8700      175.4350   \n",
       "\n",
       "              50%           75%           max  \n",
       "x1   5308896.5000  6594657.5000  7599295.0000  \n",
       "x2       565.9400     1033.5350     2110.7800  \n",
       "x3      1586.0200     3294.4850     6882.8500  \n",
       "x4     15943.3750    25889.9375    42049.1400  \n",
       "x5     12345.7050    21332.1850    33156.8300  \n",
       "x6   7314304.0000  7867809.7500  8323096.0000  \n",
       "x7      1262.0500     2244.1175     4454.5500  \n",
       "x8      4104.5850     8500.0875    15420.1400  \n",
       "x9       113.5300      169.9625      228.4600  \n",
       "x10      235.7600      521.0650      852.5600  \n",
       "x11      102.4500      103.9250      120.0000  \n",
       "x12        1.4560        1.5782        1.9060  \n",
       "x13    13267.0000    22633.0000    41972.0000  \n",
       "y        319.5000      909.2725     2088.1400  "
      ]
     },
     "execution_count": 2,
     "metadata": {},
     "output_type": "execute_result"
    }
   ],
   "source": [
    "data.describe().T.applymap(lambda x : '{:.4f}'.format(x))"
   ]
  },
  {
   "cell_type": "code",
   "execution_count": 3,
   "metadata": {
    "ExecuteTime": {
     "end_time": "2018-10-08T01:03:50.779965Z",
     "start_time": "2018-10-08T01:03:50.530632Z"
    }
   },
   "outputs": [
    {
     "data": {
      "text/plain": [
       "[<matplotlib.lines.Line2D at 0x20d9ff8ac50>]"
      ]
     },
     "execution_count": 3,
     "metadata": {},
     "output_type": "execute_result"
    },
    {
     "data": {
      "text/plain": [
       "[<matplotlib.axis.XTick at 0x20d9ff6f160>,\n",
       " <matplotlib.axis.XTick at 0x20d9fdf6a90>,\n",
       " <matplotlib.axis.XTick at 0x20d9fdf67f0>,\n",
       " <matplotlib.axis.XTick at 0x20d9ff98470>,\n",
       " <matplotlib.axis.XTick at 0x20d9ff98940>,\n",
       " <matplotlib.axis.XTick at 0x20d9ff98cc0>,\n",
       " <matplotlib.axis.XTick at 0x20d9ffab1d0>,\n",
       " <matplotlib.axis.XTick at 0x20d9ffab6a0>,\n",
       " <matplotlib.axis.XTick at 0x20d9ffabb70>,\n",
       " <matplotlib.axis.XTick at 0x20d9ffb30f0>,\n",
       " <matplotlib.axis.XTick at 0x20d9ffb3550>,\n",
       " <matplotlib.axis.XTick at 0x20d9ffb3a20>,\n",
       " <matplotlib.axis.XTick at 0x20d9ffb3ef0>,\n",
       " <matplotlib.axis.XTick at 0x20d9ffb3b00>,\n",
       " <matplotlib.axis.XTick at 0x20d9ffab5f8>,\n",
       " <matplotlib.axis.XTick at 0x20d9ffba320>,\n",
       " <matplotlib.axis.XTick at 0x20d9ffba7f0>,\n",
       " <matplotlib.axis.XTick at 0x20d9ffbacc0>,\n",
       " <matplotlib.axis.XTick at 0x20d9ffc41d0>,\n",
       " <matplotlib.axis.XTick at 0x20d9ffc46a0>,\n",
       " <matplotlib.axis.XTick at 0x20d9ffc4b70>]"
      ]
     },
     "execution_count": 3,
     "metadata": {},
     "output_type": "execute_result"
    },
    {
     "data": {
      "text/plain": [
       "[Text(0,0,'1994'),\n",
       " Text(0,0,'1995'),\n",
       " Text(0,0,'1996'),\n",
       " Text(0,0,'1997'),\n",
       " Text(0,0,'1998'),\n",
       " Text(0,0,'1999'),\n",
       " Text(0,0,'2000'),\n",
       " Text(0,0,'2001'),\n",
       " Text(0,0,'2002'),\n",
       " Text(0,0,'2003'),\n",
       " Text(0,0,'2004'),\n",
       " Text(0,0,'2005'),\n",
       " Text(0,0,'2006'),\n",
       " Text(0,0,'2007'),\n",
       " Text(0,0,'2008'),\n",
       " Text(0,0,'2009'),\n",
       " Text(0,0,'2010'),\n",
       " Text(0,0,'2011'),\n",
       " Text(0,0,'2012'),\n",
       " Text(0,0,'2013')]"
      ]
     },
     "execution_count": 3,
     "metadata": {},
     "output_type": "execute_result"
    },
    {
     "data": {
      "image/png": "[encoded data removed]",
      "text/plain": [
       "<Figure size 720x360 with 1 Axes>"
      ]
     },
     "metadata": {},
     "output_type": "display_data"
    }
   ],
   "source": [
    "import matplotlib.pyplot as plt\n",
    "fig = plt.figure(figsize=(10,5))\n",
    "ax = fig.add_subplot(1,1,1)\n",
    "ax.plot(data['y'])\n",
    "ax.set_xticks(np.arange(0,21))\n",
    "ax.set_xticklabels(pd.period_range('1994',periods=20,freq='A'))"
   ]
  },
  {
   "cell_type": "code",
   "execution_count": 4,
   "metadata": {
    "ExecuteTime": {
     "end_time": "2018-10-08T01:03:50.804900Z",
     "start_time": "2018-10-08T01:03:50.781961Z"
    }
   },
   "outputs": [
    {
     "data": {
      "text/html": [
       "<div>\n",
       "<style>\n",
       "    .dataframe thead tr:only-child th {\n",
       "        text-align: right;\n",
       "    }\n",
       "\n",
       "    .dataframe thead th {\n",
       "        text-align: left;\n",
       "    }\n",
       "\n",
       "    .dataframe tbody tr th {\n",
       "        vertical-align: top;\n",
       "    }\n",
       "</style>\n",
       "<table border=\"1\" class=\"dataframe\">\n",
       "  <thead>\n",
       "    <tr style=\"text-align: right;\">\n",
       "      <th></th>\n",
       "      <th>x1</th>\n",
       "      <th>x2</th>\n",
       "      <th>x3</th>\n",
       "      <th>x4</th>\n",
       "      <th>x5</th>\n",
       "      <th>x6</th>\n",
       "      <th>x7</th>\n",
       "      <th>x8</th>\n",
       "      <th>x9</th>\n",
       "      <th>x10</th>\n",
       "      <th>x11</th>\n",
       "      <th>x12</th>\n",
       "      <th>x13</th>\n",
       "      <th>y</th>\n",
       "    </tr>\n",
       "  </thead>\n",
       "  <tbody>\n",
       "    <tr>\n",
       "      <th>x1</th>\n",
       "      <td>1.000000</td>\n",
       "      <td>0.946127</td>\n",
       "      <td>0.946105</td>\n",
       "      <td>0.970858</td>\n",
       "      <td>0.971181</td>\n",
       "      <td>0.993656</td>\n",
       "      <td>0.953170</td>\n",
       "      <td>0.970053</td>\n",
       "      <td>0.983138</td>\n",
       "      <td>0.978001</td>\n",
       "      <td>-0.285738</td>\n",
       "      <td>0.935236</td>\n",
       "      <td>0.961951</td>\n",
       "      <td>0.938657</td>\n",
       "    </tr>\n",
       "    <tr>\n",
       "      <th>x2</th>\n",
       "      <td>0.946127</td>\n",
       "      <td>1.000000</td>\n",
       "      <td>0.997153</td>\n",
       "      <td>0.992443</td>\n",
       "      <td>0.989825</td>\n",
       "      <td>0.919806</td>\n",
       "      <td>0.990983</td>\n",
       "      <td>0.993305</td>\n",
       "      <td>0.979635</td>\n",
       "      <td>0.983910</td>\n",
       "      <td>-0.133694</td>\n",
       "      <td>0.887553</td>\n",
       "      <td>0.997097</td>\n",
       "      <td>0.984676</td>\n",
       "    </tr>\n",
       "    <tr>\n",
       "      <th>x3</th>\n",
       "      <td>0.946105</td>\n",
       "      <td>0.997153</td>\n",
       "      <td>1.000000</td>\n",
       "      <td>0.994579</td>\n",
       "      <td>0.992625</td>\n",
       "      <td>0.918570</td>\n",
       "      <td>0.996440</td>\n",
       "      <td>0.994398</td>\n",
       "      <td>0.981389</td>\n",
       "      <td>0.987977</td>\n",
       "      <td>-0.146433</td>\n",
       "      <td>0.887417</td>\n",
       "      <td>0.997129</td>\n",
       "      <td>0.992741</td>\n",
       "    </tr>\n",
       "    <tr>\n",
       "      <th>x4</th>\n",
       "      <td>0.970858</td>\n",
       "      <td>0.992443</td>\n",
       "      <td>0.994579</td>\n",
       "      <td>1.000000</td>\n",
       "      <td>0.998645</td>\n",
       "      <td>0.949673</td>\n",
       "      <td>0.993923</td>\n",
       "      <td>0.997624</td>\n",
       "      <td>0.992740</td>\n",
       "      <td>0.995424</td>\n",
       "      <td>-0.189866</td>\n",
       "      <td>0.907801</td>\n",
       "      <td>0.996877</td>\n",
       "      <td>0.987478</td>\n",
       "    </tr>\n",
       "    <tr>\n",
       "      <th>x5</th>\n",
       "      <td>0.971181</td>\n",
       "      <td>0.989825</td>\n",
       "      <td>0.992625</td>\n",
       "      <td>0.998645</td>\n",
       "      <td>1.000000</td>\n",
       "      <td>0.947662</td>\n",
       "      <td>0.992129</td>\n",
       "      <td>0.996991</td>\n",
       "      <td>0.994131</td>\n",
       "      <td>0.996364</td>\n",
       "      <td>-0.180938</td>\n",
       "      <td>0.896969</td>\n",
       "      <td>0.994758</td>\n",
       "      <td>0.988964</td>\n",
       "    </tr>\n",
       "    <tr>\n",
       "      <th>x6</th>\n",
       "      <td>0.993656</td>\n",
       "      <td>0.919806</td>\n",
       "      <td>0.918570</td>\n",
       "      <td>0.949673</td>\n",
       "      <td>0.947662</td>\n",
       "      <td>1.000000</td>\n",
       "      <td>0.927263</td>\n",
       "      <td>0.948254</td>\n",
       "      <td>0.967872</td>\n",
       "      <td>0.957005</td>\n",
       "      <td>-0.343653</td>\n",
       "      <td>0.948412</td>\n",
       "      <td>0.938881</td>\n",
       "      <td>0.909062</td>\n",
       "    </tr>\n",
       "    <tr>\n",
       "      <th>x7</th>\n",
       "      <td>0.953170</td>\n",
       "      <td>0.990983</td>\n",
       "      <td>0.996440</td>\n",
       "      <td>0.993923</td>\n",
       "      <td>0.992129</td>\n",
       "      <td>0.927263</td>\n",
       "      <td>1.000000</td>\n",
       "      <td>0.994891</td>\n",
       "      <td>0.982857</td>\n",
       "      <td>0.991463</td>\n",
       "      <td>-0.151829</td>\n",
       "      <td>0.887458</td>\n",
       "      <td>0.995589</td>\n",
       "      <td>0.994115</td>\n",
       "    </tr>\n",
       "    <tr>\n",
       "      <th>x8</th>\n",
       "      <td>0.970053</td>\n",
       "      <td>0.993305</td>\n",
       "      <td>0.994398</td>\n",
       "      <td>0.997624</td>\n",
       "      <td>0.996991</td>\n",
       "      <td>0.948254</td>\n",
       "      <td>0.994891</td>\n",
       "      <td>1.000000</td>\n",
       "      <td>0.993077</td>\n",
       "      <td>0.996786</td>\n",
       "      <td>-0.154884</td>\n",
       "      <td>0.897361</td>\n",
       "      <td>0.998159</td>\n",
       "      <td>0.988947</td>\n",
       "    </tr>\n",
       "    <tr>\n",
       "      <th>x9</th>\n",
       "      <td>0.983138</td>\n",
       "      <td>0.979635</td>\n",
       "      <td>0.981389</td>\n",
       "      <td>0.992740</td>\n",
       "      <td>0.994131</td>\n",
       "      <td>0.967872</td>\n",
       "      <td>0.982857</td>\n",
       "      <td>0.993077</td>\n",
       "      <td>1.000000</td>\n",
       "      <td>0.993905</td>\n",
       "      <td>-0.225543</td>\n",
       "      <td>0.907972</td>\n",
       "      <td>0.988529</td>\n",
       "      <td>0.975441</td>\n",
       "    </tr>\n",
       "    <tr>\n",
       "      <th>x10</th>\n",
       "      <td>0.978001</td>\n",
       "      <td>0.983910</td>\n",
       "      <td>0.987977</td>\n",
       "      <td>0.995424</td>\n",
       "      <td>0.996364</td>\n",
       "      <td>0.957005</td>\n",
       "      <td>0.991463</td>\n",
       "      <td>0.996786</td>\n",
       "      <td>0.993905</td>\n",
       "      <td>1.000000</td>\n",
       "      <td>-0.168262</td>\n",
       "      <td>0.903448</td>\n",
       "      <td>0.992369</td>\n",
       "      <td>0.986830</td>\n",
       "    </tr>\n",
       "    <tr>\n",
       "      <th>x11</th>\n",
       "      <td>-0.285738</td>\n",
       "      <td>-0.133694</td>\n",
       "      <td>-0.146433</td>\n",
       "      <td>-0.189866</td>\n",
       "      <td>-0.180938</td>\n",
       "      <td>-0.343653</td>\n",
       "      <td>-0.151829</td>\n",
       "      <td>-0.154884</td>\n",
       "      <td>-0.225543</td>\n",
       "      <td>-0.168262</td>\n",
       "      <td>1.000000</td>\n",
       "      <td>-0.432369</td>\n",
       "      <td>-0.155952</td>\n",
       "      <td>-0.120977</td>\n",
       "    </tr>\n",
       "    <tr>\n",
       "      <th>x12</th>\n",
       "      <td>0.935236</td>\n",
       "      <td>0.887553</td>\n",
       "      <td>0.887417</td>\n",
       "      <td>0.907801</td>\n",
       "      <td>0.896969</td>\n",
       "      <td>0.948412</td>\n",
       "      <td>0.887458</td>\n",
       "      <td>0.897361</td>\n",
       "      <td>0.907972</td>\n",
       "      <td>0.903448</td>\n",
       "      <td>-0.432369</td>\n",
       "      <td>1.000000</td>\n",
       "      <td>0.897713</td>\n",
       "      <td>0.868982</td>\n",
       "    </tr>\n",
       "    <tr>\n",
       "      <th>x13</th>\n",
       "      <td>0.961951</td>\n",
       "      <td>0.997097</td>\n",
       "      <td>0.997129</td>\n",
       "      <td>0.996877</td>\n",
       "      <td>0.994758</td>\n",
       "      <td>0.938881</td>\n",
       "      <td>0.995589</td>\n",
       "      <td>0.998159</td>\n",
       "      <td>0.988529</td>\n",
       "      <td>0.992369</td>\n",
       "      <td>-0.155952</td>\n",
       "      <td>0.897713</td>\n",
       "      <td>1.000000</td>\n",
       "      <td>0.988245</td>\n",
       "    </tr>\n",
       "    <tr>\n",
       "      <th>y</th>\n",
       "      <td>0.938657</td>\n",
       "      <td>0.984676</td>\n",
       "      <td>0.992741</td>\n",
       "      <td>0.987478</td>\n",
       "      <td>0.988964</td>\n",
       "      <td>0.909062</td>\n",
       "      <td>0.994115</td>\n",
       "      <td>0.988947</td>\n",
       "      <td>0.975441</td>\n",
       "      <td>0.986830</td>\n",
       "      <td>-0.120977</td>\n",
       "      <td>0.868982</td>\n",
       "      <td>0.988245</td>\n",
       "      <td>1.000000</td>\n",
       "    </tr>\n",
       "  </tbody>\n",
       "</table>\n",
       "</div>"
      ],
      "text/plain": [
       "           x1        x2        x3        x4        x5        x6        x7  \\\n",
       "x1   1.000000  0.946127  0.946105  0.970858  0.971181  0.993656  0.953170   \n",
       "x2   0.946127  1.000000  0.997153  0.992443  0.989825  0.919806  0.990983   \n",
       "x3   0.946105  0.997153  1.000000  0.994579  0.992625  0.918570  0.996440   \n",
       "x4   0.970858  0.992443  0.994579  1.000000  0.998645  0.949673  0.993923   \n",
       "x5   0.971181  0.989825  0.992625  0.998645  1.000000  0.947662  0.992129   \n",
       "x6   0.993656  0.919806  0.918570  0.949673  0.947662  1.000000  0.927263   \n",
       "x7   0.953170  0.990983  0.996440  0.993923  0.992129  0.927263  1.000000   \n",
       "x8   0.970053  0.993305  0.994398  0.997624  0.996991  0.948254  0.994891   \n",
       "x9   0.983138  0.979635  0.981389  0.992740  0.994131  0.967872  0.982857   \n",
       "x10  0.978001  0.983910  0.987977  0.995424  0.996364  0.957005  0.991463   \n",
       "x11 -0.285738 -0.133694 -0.146433 -0.189866 -0.180938 -0.343653 -0.151829   \n",
       "x12  0.935236  0.887553  0.887417  0.907801  0.896969  0.948412  0.887458   \n",
       "x13  0.961951  0.997097  0.997129  0.996877  0.994758  0.938881  0.995589   \n",
       "y    0.938657  0.984676  0.992741  0.987478  0.988964  0.909062  0.994115   \n",
       "\n",
       "           x8        x9       x10       x11       x12       x13         y  \n",
       "x1   0.970053  0.983138  0.978001 -0.285738  0.935236  0.961951  0.938657  \n",
       "x2   0.993305  0.979635  0.983910 -0.133694  0.887553  0.997097  0.984676  \n",
       "x3   0.994398  0.981389  0.987977 -0.146433  0.887417  0.997129  0.992741  \n",
       "x4   0.997624  0.992740  0.995424 -0.189866  0.907801  0.996877  0.987478  \n",
       "x5   0.996991  0.994131  0.996364 -0.180938  0.896969  0.994758  0.988964  \n",
       "x6   0.948254  0.967872  0.957005 -0.343653  0.948412  0.938881  0.909062  \n",
       "x7   0.994891  0.982857  0.991463 -0.151829  0.887458  0.995589  0.994115  \n",
       "x8   1.000000  0.993077  0.996786 -0.154884  0.897361  0.998159  0.988947  \n",
       "x9   0.993077  1.000000  0.993905 -0.225543  0.907972  0.988529  0.975441  \n",
       "x10  0.996786  0.993905  1.000000 -0.168262  0.903448  0.992369  0.986830  \n",
       "x11 -0.154884 -0.225543 -0.168262  1.000000 -0.432369 -0.155952 -0.120977  \n",
       "x12  0.897361  0.907972  0.903448 -0.432369  1.000000  0.897713  0.868982  \n",
       "x13  0.998159  0.988529  0.992369 -0.155952  0.897713  1.000000  0.988245  \n",
       "y    0.988947  0.975441  0.986830 -0.120977  0.868982  0.988245  1.000000  "
      ]
     },
     "execution_count": 4,
     "metadata": {},
     "output_type": "execute_result"
    }
   ],
   "source": [
    "data.corr(method='pearson')"
   ]
  },
  {
   "cell_type": "code",
   "execution_count": 5,
   "metadata": {
    "ExecuteTime": {
     "end_time": "2018-10-08T01:03:51.282639Z",
     "start_time": "2018-10-08T01:03:50.807891Z"
    }
   },
   "outputs": [
    {
     "data": {
      "text/plain": [
       "<matplotlib.axes._subplots.AxesSubplot at 0x20da15a2518>"
      ]
     },
     "execution_count": 5,
     "metadata": {},
     "output_type": "execute_result"
    },
    {
     "data": {
      "image/png": "[encoded data removed]",
      "text/plain": [
       "<Figure size 1152x576 with 2 Axes>"
      ]
     },
     "metadata": {},
     "output_type": "display_data"
    }
   ],
   "source": [
    "import seaborn as sns\n",
    "fig = plt.figure(figsize=(16,8))\n",
    "cmap = sns.cubehelix_palette(start = 1, rot = 1, gamma = 0.8,as_cmap = True)\n",
    "# cmap='rainbow'\n",
    "sns.heatmap(data.corr(),square=True,cmap=cmap)"
   ]
  },
  {
   "cell_type": "code",
   "execution_count": 6,
   "metadata": {
    "ExecuteTime": {
     "end_time": "2018-10-08T01:03:51.449179Z",
     "start_time": "2018-10-08T01:03:51.284616Z"
    }
   },
   "outputs": [
    {
     "data": {
      "text/plain": [
       "<matplotlib.image.AxesImage at 0x20da1693d68>"
      ]
     },
     "execution_count": 6,
     "metadata": {},
     "output_type": "execute_result"
    },
    {
     "data": {
      "text/plain": [
       "<matplotlib.colorbar.Colorbar at 0x20da1635a90>"
      ]
     },
     "execution_count": 6,
     "metadata": {},
     "output_type": "execute_result"
    },
    {
     "data": {
      "image/png": "[encoded data removed]",
      "text/plain": [
       "<Figure size 288x288 with 2 Axes>"
      ]
     },
     "metadata": {},
     "output_type": "display_data"
    }
   ],
   "source": [
    "plt.matshow(data.corr(),cmap=plt.cm.Greens)\n",
    "plt.colorbar()"
   ]
  },
  {
   "cell_type": "code",
   "execution_count": 7,
   "metadata": {
    "ExecuteTime": {
     "end_time": "2018-10-08T01:03:51.607755Z",
     "start_time": "2018-10-08T01:03:51.450175Z"
    }
   },
   "outputs": [
    {
     "name": "stderr",
     "output_type": "stream",
     "text": [
      "F:\\ProgramData\\Anaconda3\\envs\\normal\\lib\\site-packages\\sklearn\\linear_model\\coordinate_descent.py:491: ConvergenceWarning: Objective did not converge. You might want to increase the number of iterations. Fitting data with very small alpha may cause precision problems.\n",
      "  ConvergenceWarning)\n"
     ]
    },
    {
     "data": {
      "text/plain": [
       "Lasso(alpha=1.0, copy_X=True, fit_intercept=True, max_iter=1000,\n",
       "   normalize=False, positive=False, precompute=False, random_state=None,\n",
       "   selection='cyclic', tol=0.0001, warm_start=False)"
      ]
     },
     "execution_count": 7,
     "metadata": {},
     "output_type": "execute_result"
    },
    {
     "data": {
      "text/plain": [
       "array([ -8.94412569e-05,  -5.11815961e-01,   2.12588542e-01,\n",
       "        -4.13843114e-02,   8.00573673e-02,   3.18444858e-01])"
      ]
     },
     "execution_count": 7,
     "metadata": {},
     "output_type": "execute_result"
    },
    {
     "data": {
      "text/plain": [
       "1.8119127020779615"
      ]
     },
     "execution_count": 7,
     "metadata": {},
     "output_type": "execute_result"
    }
   ],
   "source": [
    "#Lasso变量选择模型\n",
    "# LASSO回归的特点是在拟合广义线性模型的同时进行变量筛选和复杂度调整。 因此，不论目标因变量是连续的，还是二元或者多元离散的，\n",
    "#都可以用LASSO回归建模然后预测。 这里的变量筛选是指不把所有的变量都放入模型中进行拟合，而是有选择的把变量放入模型从而得到更好的性能参数。\n",
    "from sklearn.linear_model import Lasso\n",
    "model = Lasso()\n",
    "model.fit(data[['x1', 'x2', 'x3', 'x4','x5', 'x7']],data['y'])\n",
    "model.coef_\n",
    "model.intercept_"
   ]
  },
  {
   "cell_type": "code",
   "execution_count": 8,
   "metadata": {
    "ExecuteTime": {
     "end_time": "2018-10-08T01:03:51.620719Z",
     "start_time": "2018-10-08T01:03:51.609750Z"
    }
   },
   "outputs": [
    {
     "data": {
      "text/plain": [
       "Lars(copy_X=True, eps=2.2204460492503131e-16, fit_intercept=True,\n",
       "   fit_path=True, n_nonzero_coefs=7, normalize=True, positive=False,\n",
       "   precompute='auto', verbose=False)"
      ]
     },
     "execution_count": 8,
     "metadata": {},
     "output_type": "execute_result"
    },
    {
     "data": {
      "text/plain": [
       "array([ -2.23346221e-05,   0.00000000e+00,  -5.87867983e-03,\n",
       "         0.00000000e+00,   2.22231308e-02,  -1.62221180e-04,\n",
       "         3.13480155e-01,   0.00000000e+00,   0.00000000e+00,\n",
       "         7.37836808e-01,   2.37577442e-01,   0.00000000e+00,\n",
       "         0.00000000e+00])"
      ]
     },
     "execution_count": 8,
     "metadata": {},
     "output_type": "execute_result"
    }
   ],
   "source": [
    "from sklearn.linear_model import Lars #最小角回归\n",
    "model1 = Lars(n_nonzero_coefs=7)\n",
    "model1.fit(data.iloc[:,0:13],data['y'])\n",
    "model1.coef_"
   ]
  },
  {
   "cell_type": "code",
   "execution_count": 9,
   "metadata": {
    "ExecuteTime": {
     "end_time": "2018-10-08T01:03:51.648644Z",
     "start_time": "2018-10-08T01:03:51.621716Z"
    }
   },
   "outputs": [
    {
     "data": {
      "text/plain": [
       "LarsCV(copy_X=True, cv=None, eps=2.2204460492503131e-16, fit_intercept=True,\n",
       "    max_iter=500, max_n_alphas=1000, n_jobs=1, normalize=True,\n",
       "    positive=False, precompute='auto', verbose=False)"
      ]
     },
     "execution_count": 9,
     "metadata": {},
     "output_type": "execute_result"
    },
    {
     "data": {
      "text/plain": [
       "array([ 0.        ,  0.        ,  0.06028917,  0.        ,  0.01227839,\n",
       "        0.        ,  0.32712489,  0.        ,  0.        ,  0.        ,\n",
       "        2.73312783,  0.        ,  0.        ])"
      ]
     },
     "execution_count": 9,
     "metadata": {},
     "output_type": "execute_result"
    },
    {
     "data": {
      "text/plain": [
       "1.1391362843991517"
      ]
     },
     "execution_count": 9,
     "metadata": {},
     "output_type": "execute_result"
    }
   ],
   "source": [
    "from sklearn.linear_model import LarsCV #交叉验证最小二乘法回归模型\n",
    "model2 = LarsCV()\n",
    "model2.fit(data.iloc[:,0:13],data['y'])\n",
    "model2.coef_\n",
    "model2.alpha_"
   ]
  },
  {
   "cell_type": "code",
   "execution_count": 10,
   "metadata": {
    "ExecuteTime": {
     "end_time": "2018-10-08T01:03:51.689541Z",
     "start_time": "2018-10-08T01:03:51.650638Z"
    }
   },
   "outputs": [
    {
     "data": {
      "text/plain": [
       "LassoCV(alphas=None, copy_X=True, cv=None, eps=0.001, fit_intercept=True,\n",
       "    max_iter=1000, n_alphas=100, n_jobs=1, normalize=False, positive=False,\n",
       "    precompute='auto', random_state=None, selection='cyclic', tol=0.0001,\n",
       "    verbose=False)"
      ]
     },
     "execution_count": 10,
     "metadata": {},
     "output_type": "execute_result"
    },
    {
     "data": {
      "text/plain": [
       "array([ 0.00124055,  0.        ,  0.        ,  0.        ,  0.        ,\n",
       "       -0.00161083,  0.        ,  0.        ,  0.        ,  0.        ,\n",
       "        0.        ,  0.        ,  0.        ])"
      ]
     },
     "execution_count": 10,
     "metadata": {},
     "output_type": "execute_result"
    },
    {
     "data": {
      "text/plain": [
       "685733.82690319954"
      ]
     },
     "execution_count": 10,
     "metadata": {},
     "output_type": "execute_result"
    }
   ],
   "source": [
    "from sklearn.linear_model import LassoCV #交叉验证最小二乘法回归模型\n",
    "model3 = LassoCV()\n",
    "model3.fit(data.iloc[:, 0:13], data['y'])\n",
    "model3.coef_ # 各个特征的系数\n",
    "model3.alpha_"
   ]
  },
  {
   "cell_type": "code",
   "execution_count": 11,
   "metadata": {
    "ExecuteTime": {
     "end_time": "2018-10-08T01:03:51.707489Z",
     "start_time": "2018-10-08T01:03:51.691529Z"
    }
   },
   "outputs": [
    {
     "name": "stderr",
     "output_type": "stream",
     "text": [
      "F:\\ProgramData\\Anaconda3\\envs\\normal\\lib\\site-packages\\sklearn\\linear_model\\coordinate_descent.py:491: ConvergenceWarning: Objective did not converge. You might want to increase the number of iterations. Fitting data with very small alpha may cause precision problems.\n",
      "  ConvergenceWarning)\n"
     ]
    },
    {
     "data": {
      "text/plain": [
       "Lasso(alpha=0.1, copy_X=True, fit_intercept=True, max_iter=1000,\n",
       "   normalize=False, positive=False, precompute=False, random_state=None,\n",
       "   selection='cyclic', tol=0.0001, warm_start=False)"
      ]
     },
     "execution_count": 11,
     "metadata": {},
     "output_type": "execute_result"
    },
    {
     "data": {
      "text/plain": [
       "array([ -1.88512448e-04,  -2.68436321e-01,   4.45960813e-01,\n",
       "        -3.24264041e-02,   7.25657667e-02,   4.52109484e-04,\n",
       "         2.28596158e-01,  -4.51460904e-02,  -3.10503208e+00,\n",
       "         6.19423002e-01,   4.80398130e+00,  -9.79664624e+01,\n",
       "        -3.86933684e-02])"
      ]
     },
     "execution_count": 11,
     "metadata": {},
     "output_type": "execute_result"
    },
    {
     "data": {
      "text/plain": [
       "-2650.9958943685506"
      ]
     },
     "execution_count": 11,
     "metadata": {},
     "output_type": "execute_result"
    }
   ],
   "source": [
    "from sklearn.linear_model import Lasso# AdaptiveLasso找不到\n",
    "# LASSO回归的特点是在拟合广义线性模型的同时进行变量筛选和复杂度调整。 因此，不论目标因变量是连续的，还是二元或者多元离散的，\n",
    "#都可以用LASSO回归建模然后预测。 这里的变量筛选是指不把所有的变量都放入模型中进行拟合，而是有选择的把变量放入模型从而得到更好的性能参数。\n",
    "model4 = Lasso(alpha = 0.1)\n",
    "model4.fit(data.iloc[:,:13], data['y']) # data.iloc[:, 0:13]\n",
    "model4.coef_ # 各个特征的系数\n",
    "model4.intercept_"
   ]
  },
  {
   "cell_type": "code",
   "execution_count": 12,
   "metadata": {
    "ExecuteTime": {
     "end_time": "2018-10-08T01:03:51.714467Z",
     "start_time": "2018-10-08T01:03:51.709480Z"
    },
    "scrolled": true
   },
   "outputs": [],
   "source": [
    "# 分析合适的Lasso变量组合\n",
    "# import itertools\n",
    "# from sklearn.linear_model import Lasso   # AdaptiveLasso找不到\n",
    "# import time \n",
    "# start = time.clock()\n",
    "# a = data.columns[:13]\n",
    "# tempdf = pd.DataFrame([])\n",
    "# for i in range(1,len(a)+1):\n",
    "#     All = list(itertools.combinations(a,i))\n",
    "# #     print(All)\n",
    "#     for j in range(len(All)):\n",
    "#         model = Lasso(alpha=0.1)\n",
    "#         model.fit(data[list(All[j])], data['y']) # data.iloc[:, 0:13]\n",
    "#         effect = model.intercept_\n",
    "#         df = DataFrame([str(list(All[j])), effect]).T\n",
    "# #         print(df)\n",
    "#         tempdf = tempdf.append(df)\n",
    "# end = time.clock()\n",
    "# print('耗费时间为' + str(end-start) +'s!')\n",
    "\n",
    "# tempdf.columns = ['index','lassovalue']\n",
    "\n",
    "# tempdf['absLasso'] = np.abs(tempdf['lassovalue'].values)\n",
    "# tempdf.sort_values(by = 'absLasso')"
   ]
  },
  {
   "cell_type": "markdown",
   "metadata": {},
   "source": [
    "![分析合适的Lasso变量组合的结果](./chapter13.png \"分析合适的Lasso变量组合的结果\")"
   ]
  },
  {
   "cell_type": "code",
   "execution_count": 13,
   "metadata": {
    "ExecuteTime": {
     "end_time": "2018-10-08T01:03:51.730426Z",
     "start_time": "2018-10-08T01:03:51.716462Z"
    }
   },
   "outputs": [
    {
     "data": {
      "text/plain": [
       "Ridge(alpha=0.1, copy_X=True, fit_intercept=True, max_iter=None,\n",
       "   normalize=False, random_state=None, solver='auto', tol=0.001)"
      ]
     },
     "execution_count": 13,
     "metadata": {},
     "output_type": "execute_result"
    },
    {
     "name": "stdout",
     "output_type": "stream",
     "text": [
      "[ -3.84466588e-04  -5.94732411e-01   4.29000036e-01  -1.24925239e-01\n",
      "   1.74154990e-01   7.96690107e-04   2.67402903e-01   3.25616769e-02\n",
      "  -7.45099551e+00  -1.00039680e-01   3.35606121e+00   1.67651891e+01\n",
      "  -7.05283320e-03]\n",
      "-3858.30874757\n",
      "0.997670764939\n",
      "{'alpha': 0.1, 'copy_X': True, 'fit_intercept': True, 'max_iter': None, 'normalize': False, 'random_state': None, 'solver': 'auto', 'tol': 0.001}\n",
      "Ridge(alpha=0.1, copy_X=True, fit_intercept=False, max_iter=None,\n",
      "   normalize=False, random_state=None, solver='auto', tol=0.001)\n"
     ]
    }
   ],
   "source": [
    "# 岭回归（Ridge 回归）\n",
    "from sklearn.linear_model import Ridge\n",
    "clf = Ridge(alpha=0.1)  # 设置k值\n",
    "clf.fit(data.iloc[:, 0:13], data['y'])  # 参数拟合\n",
    "print(clf.coef_)  # 系数\n",
    "print(clf.intercept_)  # 常量x\n",
    "# print(clf.predict([[3, 3]]))  # 求预测值\n",
    "\n",
    "print(clf.score(data.iloc[:, 0:13], data['y']))  # R^2，拟合优度\n",
    "print(clf.get_params())  # 获取参数信息\n",
    "print(clf.set_params(fit_intercept=False))  # 重新设置参数 "
   ]
  },
  {
   "cell_type": "code",
   "execution_count": 14,
   "metadata": {
    "ExecuteTime": {
     "end_time": "2018-10-08T01:03:51.769321Z",
     "start_time": "2018-10-08T01:03:51.732419Z"
    }
   },
   "outputs": [
    {
     "data": {
      "text/html": [
       "<div>\n",
       "<style>\n",
       "    .dataframe thead tr:only-child th {\n",
       "        text-align: right;\n",
       "    }\n",
       "\n",
       "    .dataframe thead th {\n",
       "        text-align: left;\n",
       "    }\n",
       "\n",
       "    .dataframe tbody tr th {\n",
       "        vertical-align: top;\n",
       "    }\n",
       "</style>\n",
       "<table border=\"1\" class=\"dataframe\">\n",
       "  <thead>\n",
       "    <tr style=\"text-align: right;\">\n",
       "      <th></th>\n",
       "      <th>x1</th>\n",
       "      <th>x2</th>\n",
       "      <th>x3</th>\n",
       "      <th>x4</th>\n",
       "      <th>x5</th>\n",
       "      <th>x6</th>\n",
       "      <th>x7</th>\n",
       "      <th>x8</th>\n",
       "      <th>x9</th>\n",
       "      <th>x10</th>\n",
       "      <th>x11</th>\n",
       "      <th>x12</th>\n",
       "      <th>x13</th>\n",
       "      <th>y</th>\n",
       "    </tr>\n",
       "  </thead>\n",
       "  <tbody>\n",
       "    <tr>\n",
       "      <th>1994</th>\n",
       "      <td>3831732.0</td>\n",
       "      <td>181.54</td>\n",
       "      <td>448.19</td>\n",
       "      <td>7571.00</td>\n",
       "      <td>6212.70</td>\n",
       "      <td>6370241.0</td>\n",
       "      <td>525.71</td>\n",
       "      <td>985.31</td>\n",
       "      <td>60.62</td>\n",
       "      <td>65.66</td>\n",
       "      <td>120.0</td>\n",
       "      <td>1.029</td>\n",
       "      <td>5321.0</td>\n",
       "      <td>64.87</td>\n",
       "    </tr>\n",
       "    <tr>\n",
       "      <th>1995</th>\n",
       "      <td>3913824.0</td>\n",
       "      <td>214.63</td>\n",
       "      <td>549.97</td>\n",
       "      <td>9038.16</td>\n",
       "      <td>7601.73</td>\n",
       "      <td>6467115.0</td>\n",
       "      <td>618.25</td>\n",
       "      <td>1259.20</td>\n",
       "      <td>73.46</td>\n",
       "      <td>95.46</td>\n",
       "      <td>113.5</td>\n",
       "      <td>1.051</td>\n",
       "      <td>6529.0</td>\n",
       "      <td>99.75</td>\n",
       "    </tr>\n",
       "    <tr>\n",
       "      <th>1996</th>\n",
       "      <td>3928907.0</td>\n",
       "      <td>239.56</td>\n",
       "      <td>686.44</td>\n",
       "      <td>9905.31</td>\n",
       "      <td>8092.82</td>\n",
       "      <td>6560508.0</td>\n",
       "      <td>638.94</td>\n",
       "      <td>1468.06</td>\n",
       "      <td>81.16</td>\n",
       "      <td>81.16</td>\n",
       "      <td>108.2</td>\n",
       "      <td>1.064</td>\n",
       "      <td>7008.0</td>\n",
       "      <td>88.11</td>\n",
       "    </tr>\n",
       "    <tr>\n",
       "      <th>1997</th>\n",
       "      <td>4282130.0</td>\n",
       "      <td>261.58</td>\n",
       "      <td>802.59</td>\n",
       "      <td>10444.60</td>\n",
       "      <td>8767.98</td>\n",
       "      <td>6664862.0</td>\n",
       "      <td>656.58</td>\n",
       "      <td>1678.12</td>\n",
       "      <td>85.72</td>\n",
       "      <td>91.70</td>\n",
       "      <td>102.2</td>\n",
       "      <td>1.092</td>\n",
       "      <td>7694.0</td>\n",
       "      <td>106.07</td>\n",
       "    </tr>\n",
       "    <tr>\n",
       "      <th>1998</th>\n",
       "      <td>4453911.0</td>\n",
       "      <td>283.14</td>\n",
       "      <td>904.57</td>\n",
       "      <td>11255.70</td>\n",
       "      <td>9422.33</td>\n",
       "      <td>6741400.0</td>\n",
       "      <td>758.83</td>\n",
       "      <td>1893.52</td>\n",
       "      <td>88.88</td>\n",
       "      <td>114.61</td>\n",
       "      <td>97.7</td>\n",
       "      <td>1.200</td>\n",
       "      <td>8027.0</td>\n",
       "      <td>137.32</td>\n",
       "    </tr>\n",
       "    <tr>\n",
       "      <th>1999</th>\n",
       "      <td>4548852.0</td>\n",
       "      <td>308.58</td>\n",
       "      <td>1000.69</td>\n",
       "      <td>12018.52</td>\n",
       "      <td>9751.44</td>\n",
       "      <td>6850024.0</td>\n",
       "      <td>878.26</td>\n",
       "      <td>2139.18</td>\n",
       "      <td>92.85</td>\n",
       "      <td>152.78</td>\n",
       "      <td>98.5</td>\n",
       "      <td>1.198</td>\n",
       "      <td>8549.0</td>\n",
       "      <td>188.14</td>\n",
       "    </tr>\n",
       "    <tr>\n",
       "      <th>2000</th>\n",
       "      <td>4962579.0</td>\n",
       "      <td>348.09</td>\n",
       "      <td>1121.13</td>\n",
       "      <td>13966.53</td>\n",
       "      <td>11349.47</td>\n",
       "      <td>7006896.0</td>\n",
       "      <td>923.67</td>\n",
       "      <td>2492.74</td>\n",
       "      <td>94.37</td>\n",
       "      <td>170.62</td>\n",
       "      <td>102.8</td>\n",
       "      <td>1.348</td>\n",
       "      <td>9566.0</td>\n",
       "      <td>219.91</td>\n",
       "    </tr>\n",
       "    <tr>\n",
       "      <th>2001</th>\n",
       "      <td>5029338.0</td>\n",
       "      <td>387.81</td>\n",
       "      <td>1248.29</td>\n",
       "      <td>14694.00</td>\n",
       "      <td>11467.35</td>\n",
       "      <td>7125979.0</td>\n",
       "      <td>978.21</td>\n",
       "      <td>2841.65</td>\n",
       "      <td>97.28</td>\n",
       "      <td>214.53</td>\n",
       "      <td>98.9</td>\n",
       "      <td>1.467</td>\n",
       "      <td>10473.0</td>\n",
       "      <td>271.91</td>\n",
       "    </tr>\n",
       "    <tr>\n",
       "      <th>2002</th>\n",
       "      <td>5070216.0</td>\n",
       "      <td>453.49</td>\n",
       "      <td>1370.68</td>\n",
       "      <td>13380.47</td>\n",
       "      <td>10671.78</td>\n",
       "      <td>7206229.0</td>\n",
       "      <td>1009.24</td>\n",
       "      <td>3203.96</td>\n",
       "      <td>103.07</td>\n",
       "      <td>202.18</td>\n",
       "      <td>97.6</td>\n",
       "      <td>1.560</td>\n",
       "      <td>11469.0</td>\n",
       "      <td>269.10</td>\n",
       "    </tr>\n",
       "    <tr>\n",
       "      <th>2003</th>\n",
       "      <td>5210706.0</td>\n",
       "      <td>533.55</td>\n",
       "      <td>1494.27</td>\n",
       "      <td>15002.59</td>\n",
       "      <td>11570.58</td>\n",
       "      <td>7251888.0</td>\n",
       "      <td>1175.17</td>\n",
       "      <td>3758.62</td>\n",
       "      <td>109.91</td>\n",
       "      <td>222.51</td>\n",
       "      <td>100.1</td>\n",
       "      <td>1.456</td>\n",
       "      <td>12360.0</td>\n",
       "      <td>300.55</td>\n",
       "    </tr>\n",
       "    <tr>\n",
       "      <th>2004</th>\n",
       "      <td>5407087.0</td>\n",
       "      <td>598.33</td>\n",
       "      <td>1677.77</td>\n",
       "      <td>16884.16</td>\n",
       "      <td>13120.83</td>\n",
       "      <td>7376720.0</td>\n",
       "      <td>1348.93</td>\n",
       "      <td>4450.55</td>\n",
       "      <td>117.15</td>\n",
       "      <td>249.01</td>\n",
       "      <td>101.7</td>\n",
       "      <td>1.424</td>\n",
       "      <td>14174.0</td>\n",
       "      <td>338.45</td>\n",
       "    </tr>\n",
       "    <tr>\n",
       "      <th>2005</th>\n",
       "      <td>5744550.0</td>\n",
       "      <td>665.32</td>\n",
       "      <td>1905.84</td>\n",
       "      <td>18287.24</td>\n",
       "      <td>14468.24</td>\n",
       "      <td>7505322.0</td>\n",
       "      <td>1519.16</td>\n",
       "      <td>5154.23</td>\n",
       "      <td>130.22</td>\n",
       "      <td>303.41</td>\n",
       "      <td>101.5</td>\n",
       "      <td>1.456</td>\n",
       "      <td>16394.0</td>\n",
       "      <td>408.86</td>\n",
       "    </tr>\n",
       "    <tr>\n",
       "      <th>2006</th>\n",
       "      <td>5994973.0</td>\n",
       "      <td>738.97</td>\n",
       "      <td>2199.14</td>\n",
       "      <td>19850.66</td>\n",
       "      <td>15444.93</td>\n",
       "      <td>7607220.0</td>\n",
       "      <td>1696.38</td>\n",
       "      <td>6081.86</td>\n",
       "      <td>128.51</td>\n",
       "      <td>356.99</td>\n",
       "      <td>102.3</td>\n",
       "      <td>1.438</td>\n",
       "      <td>17881.0</td>\n",
       "      <td>476.72</td>\n",
       "    </tr>\n",
       "    <tr>\n",
       "      <th>2007</th>\n",
       "      <td>6236312.0</td>\n",
       "      <td>877.07</td>\n",
       "      <td>2624.24</td>\n",
       "      <td>22469.22</td>\n",
       "      <td>18951.32</td>\n",
       "      <td>7734787.0</td>\n",
       "      <td>1863.34</td>\n",
       "      <td>7140.32</td>\n",
       "      <td>149.87</td>\n",
       "      <td>429.36</td>\n",
       "      <td>103.4</td>\n",
       "      <td>1.474</td>\n",
       "      <td>20058.0</td>\n",
       "      <td>838.99</td>\n",
       "    </tr>\n",
       "    <tr>\n",
       "      <th>2008</th>\n",
       "      <td>6529045.0</td>\n",
       "      <td>1005.37</td>\n",
       "      <td>3187.39</td>\n",
       "      <td>25316.72</td>\n",
       "      <td>20835.95</td>\n",
       "      <td>7841695.0</td>\n",
       "      <td>2105.54</td>\n",
       "      <td>8287.38</td>\n",
       "      <td>169.19</td>\n",
       "      <td>508.84</td>\n",
       "      <td>105.9</td>\n",
       "      <td>1.515</td>\n",
       "      <td>22114.0</td>\n",
       "      <td>843.14</td>\n",
       "    </tr>\n",
       "    <tr>\n",
       "      <th>2009</th>\n",
       "      <td>6791495.0</td>\n",
       "      <td>1118.03</td>\n",
       "      <td>3615.77</td>\n",
       "      <td>27609.59</td>\n",
       "      <td>22820.89</td>\n",
       "      <td>7946154.0</td>\n",
       "      <td>2659.85</td>\n",
       "      <td>9138.21</td>\n",
       "      <td>172.28</td>\n",
       "      <td>557.74</td>\n",
       "      <td>97.5</td>\n",
       "      <td>1.633</td>\n",
       "      <td>24190.0</td>\n",
       "      <td>1107.67</td>\n",
       "    </tr>\n",
       "    <tr>\n",
       "      <th>2010</th>\n",
       "      <td>7110695.0</td>\n",
       "      <td>1304.48</td>\n",
       "      <td>4476.38</td>\n",
       "      <td>30658.49</td>\n",
       "      <td>25011.61</td>\n",
       "      <td>8061370.0</td>\n",
       "      <td>3263.57</td>\n",
       "      <td>10748.28</td>\n",
       "      <td>188.57</td>\n",
       "      <td>664.06</td>\n",
       "      <td>103.2</td>\n",
       "      <td>1.638</td>\n",
       "      <td>29549.0</td>\n",
       "      <td>1399.16</td>\n",
       "    </tr>\n",
       "    <tr>\n",
       "      <th>2011</th>\n",
       "      <td>7431755.0</td>\n",
       "      <td>1700.87</td>\n",
       "      <td>5243.03</td>\n",
       "      <td>34438.08</td>\n",
       "      <td>28209.74</td>\n",
       "      <td>8145797.0</td>\n",
       "      <td>3412.21</td>\n",
       "      <td>12423.44</td>\n",
       "      <td>204.54</td>\n",
       "      <td>710.66</td>\n",
       "      <td>105.5</td>\n",
       "      <td>1.670</td>\n",
       "      <td>34214.0</td>\n",
       "      <td>1535.14</td>\n",
       "    </tr>\n",
       "    <tr>\n",
       "      <th>2012</th>\n",
       "      <td>7512997.0</td>\n",
       "      <td>1969.51</td>\n",
       "      <td>5977.27</td>\n",
       "      <td>38053.52</td>\n",
       "      <td>30490.44</td>\n",
       "      <td>8222969.0</td>\n",
       "      <td>3758.39</td>\n",
       "      <td>13551.21</td>\n",
       "      <td>213.76</td>\n",
       "      <td>760.49</td>\n",
       "      <td>103.0</td>\n",
       "      <td>1.825</td>\n",
       "      <td>37934.0</td>\n",
       "      <td>1579.68</td>\n",
       "    </tr>\n",
       "    <tr>\n",
       "      <th>2013</th>\n",
       "      <td>7599295.0</td>\n",
       "      <td>2110.78</td>\n",
       "      <td>6882.85</td>\n",
       "      <td>42049.14</td>\n",
       "      <td>33156.83</td>\n",
       "      <td>8323096.0</td>\n",
       "      <td>4454.55</td>\n",
       "      <td>15420.14</td>\n",
       "      <td>228.46</td>\n",
       "      <td>852.56</td>\n",
       "      <td>102.6</td>\n",
       "      <td>1.906</td>\n",
       "      <td>41972.0</td>\n",
       "      <td>2088.14</td>\n",
       "    </tr>\n",
       "    <tr>\n",
       "      <th>2014</th>\n",
       "      <td>NaN</td>\n",
       "      <td>NaN</td>\n",
       "      <td>NaN</td>\n",
       "      <td>NaN</td>\n",
       "      <td>NaN</td>\n",
       "      <td>NaN</td>\n",
       "      <td>NaN</td>\n",
       "      <td>NaN</td>\n",
       "      <td>NaN</td>\n",
       "      <td>NaN</td>\n",
       "      <td>NaN</td>\n",
       "      <td>NaN</td>\n",
       "      <td>NaN</td>\n",
       "      <td>NaN</td>\n",
       "    </tr>\n",
       "    <tr>\n",
       "      <th>2015</th>\n",
       "      <td>NaN</td>\n",
       "      <td>NaN</td>\n",
       "      <td>NaN</td>\n",
       "      <td>NaN</td>\n",
       "      <td>NaN</td>\n",
       "      <td>NaN</td>\n",
       "      <td>NaN</td>\n",
       "      <td>NaN</td>\n",
       "      <td>NaN</td>\n",
       "      <td>NaN</td>\n",
       "      <td>NaN</td>\n",
       "      <td>NaN</td>\n",
       "      <td>NaN</td>\n",
       "      <td>NaN</td>\n",
       "    </tr>\n",
       "  </tbody>\n",
       "</table>\n",
       "</div>"
      ],
      "text/plain": [
       "             x1       x2       x3        x4        x5         x6       x7  \\\n",
       "1994  3831732.0   181.54   448.19   7571.00   6212.70  6370241.0   525.71   \n",
       "1995  3913824.0   214.63   549.97   9038.16   7601.73  6467115.0   618.25   \n",
       "1996  3928907.0   239.56   686.44   9905.31   8092.82  6560508.0   638.94   \n",
       "1997  4282130.0   261.58   802.59  10444.60   8767.98  6664862.0   656.58   \n",
       "1998  4453911.0   283.14   904.57  11255.70   9422.33  6741400.0   758.83   \n",
       "1999  4548852.0   308.58  1000.69  12018.52   9751.44  6850024.0   878.26   \n",
       "2000  4962579.0   348.09  1121.13  13966.53  11349.47  7006896.0   923.67   \n",
       "2001  5029338.0   387.81  1248.29  14694.00  11467.35  7125979.0   978.21   \n",
       "2002  5070216.0   453.49  1370.68  13380.47  10671.78  7206229.0  1009.24   \n",
       "2003  5210706.0   533.55  1494.27  15002.59  11570.58  7251888.0  1175.17   \n",
       "2004  5407087.0   598.33  1677.77  16884.16  13120.83  7376720.0  1348.93   \n",
       "2005  5744550.0   665.32  1905.84  18287.24  14468.24  7505322.0  1519.16   \n",
       "2006  5994973.0   738.97  2199.14  19850.66  15444.93  7607220.0  1696.38   \n",
       "2007  6236312.0   877.07  2624.24  22469.22  18951.32  7734787.0  1863.34   \n",
       "2008  6529045.0  1005.37  3187.39  25316.72  20835.95  7841695.0  2105.54   \n",
       "2009  6791495.0  1118.03  3615.77  27609.59  22820.89  7946154.0  2659.85   \n",
       "2010  7110695.0  1304.48  4476.38  30658.49  25011.61  8061370.0  3263.57   \n",
       "2011  7431755.0  1700.87  5243.03  34438.08  28209.74  8145797.0  3412.21   \n",
       "2012  7512997.0  1969.51  5977.27  38053.52  30490.44  8222969.0  3758.39   \n",
       "2013  7599295.0  2110.78  6882.85  42049.14  33156.83  8323096.0  4454.55   \n",
       "2014        NaN      NaN      NaN       NaN       NaN        NaN      NaN   \n",
       "2015        NaN      NaN      NaN       NaN       NaN        NaN      NaN   \n",
       "\n",
       "            x8      x9     x10    x11    x12      x13        y  \n",
       "1994    985.31   60.62   65.66  120.0  1.029   5321.0    64.87  \n",
       "1995   1259.20   73.46   95.46  113.5  1.051   6529.0    99.75  \n",
       "1996   1468.06   81.16   81.16  108.2  1.064   7008.0    88.11  \n",
       "1997   1678.12   85.72   91.70  102.2  1.092   7694.0   106.07  \n",
       "1998   1893.52   88.88  114.61   97.7  1.200   8027.0   137.32  \n",
       "1999   2139.18   92.85  152.78   98.5  1.198   8549.0   188.14  \n",
       "2000   2492.74   94.37  170.62  102.8  1.348   9566.0   219.91  \n",
       "2001   2841.65   97.28  214.53   98.9  1.467  10473.0   271.91  \n",
       "2002   3203.96  103.07  202.18   97.6  1.560  11469.0   269.10  \n",
       "2003   3758.62  109.91  222.51  100.1  1.456  12360.0   300.55  \n",
       "2004   4450.55  117.15  249.01  101.7  1.424  14174.0   338.45  \n",
       "2005   5154.23  130.22  303.41  101.5  1.456  16394.0   408.86  \n",
       "2006   6081.86  128.51  356.99  102.3  1.438  17881.0   476.72  \n",
       "2007   7140.32  149.87  429.36  103.4  1.474  20058.0   838.99  \n",
       "2008   8287.38  169.19  508.84  105.9  1.515  22114.0   843.14  \n",
       "2009   9138.21  172.28  557.74   97.5  1.633  24190.0  1107.67  \n",
       "2010  10748.28  188.57  664.06  103.2  1.638  29549.0  1399.16  \n",
       "2011  12423.44  204.54  710.66  105.5  1.670  34214.0  1535.14  \n",
       "2012  13551.21  213.76  760.49  103.0  1.825  37934.0  1579.68  \n",
       "2013  15420.14  228.46  852.56  102.6  1.906  41972.0  2088.14  \n",
       "2014       NaN     NaN     NaN    NaN    NaN      NaN      NaN  \n",
       "2015       NaN     NaN     NaN    NaN    NaN      NaN      NaN  "
      ]
     },
     "execution_count": 14,
     "metadata": {},
     "output_type": "execute_result"
    }
   ],
   "source": [
    "data.index = range(1994,2014)\n",
    "data.loc[2014] = None\n",
    "data.loc[2015] = None\n",
    "data"
   ]
  },
  {
   "cell_type": "code",
   "execution_count": 15,
   "metadata": {
    "ExecuteTime": {
     "end_time": "2018-10-08T01:03:51.779294Z",
     "start_time": "2018-10-08T01:03:51.771316Z"
    }
   },
   "outputs": [],
   "source": [
    "# %load ./原书代码数据/chapter13/demo/code/GM11.py\n",
    "\n",
    "def GM11(x0): #自定义灰色预测函数\n",
    "    import numpy as np\n",
    "    x1 = x0.cumsum() #1-AGO序列\n",
    "    print(x1)\n",
    "    z1 = (x1[:len(x1)-1] + x1[1:])/2.0 #紧邻均值（MEAN）生成序列\n",
    "    z1 = z1.reshape((len(z1),1))\n",
    "    B = np.append(-z1, np.ones_like(z1), axis = 1)\n",
    "    print(B)\n",
    "    print(np.dot(B.T,B))\n",
    "    Yn = x0[1:].reshape((len(x0)-1, 1))\n",
    "    print(Yn)\n",
    "    [[a],[b]] = np.dot(np.dot(np.linalg.inv(np.dot(B.T, B)), B.T), Yn) #计算参数\n",
    "    f = lambda k: (x0[0]-b/a)*np.exp(-a*(k-1))-(x0[0]-b/a)*np.exp(-a*(k-2)) #还原值\n",
    "    delta = np.abs(x0 - np.array([f(i) for i in range(1,len(x0)+1)]))\n",
    "    C = delta.std()/x0.std()\n",
    "    P = 1.0*(np.abs(delta - delta.mean()) < 0.6745*x0.std()).sum()/len(x0)\n",
    "    return f, a, b, x0[0], C, P #返回灰色预测函数、a、b、首项、方差比、小残差概率"
   ]
  },
  {
   "cell_type": "markdown",
   "metadata": {},
   "source": [
    "# 神经网络"
   ]
  },
  {
   "cell_type": "code",
   "execution_count": 16,
   "metadata": {
    "ExecuteTime": {
     "end_time": "2018-10-08T01:03:51.791264Z",
     "start_time": "2018-10-08T01:03:51.781289Z"
    }
   },
   "outputs": [],
   "source": [
    "### 准备模型数据\n",
    "data_train = data.loc[range(1999,2014)].copy() # 取2014年前的数据建模\n",
    "data_mean = data_train.mean()\n",
    "data_std = data_train.std()\n",
    "data_train = (data_train-data_mean)/data_std # 均值标准化\n",
    "feature = ['x1', 'x3',  'x5'] # 特征所在列\n",
    "x_train = data_train[feature].as_matrix() # 特征数据\n",
    "y_train = data_train['y'].as_matrix() # 标签数据"
   ]
  },
  {
   "cell_type": "code",
   "execution_count": 17,
   "metadata": {
    "ExecuteTime": {
     "end_time": "2018-10-08T01:03:59.662227Z",
     "start_time": "2018-10-08T01:03:51.795252Z"
    }
   },
   "outputs": [
    {
     "name": "stderr",
     "output_type": "stream",
     "text": [
      "Using TensorFlow backend.\n"
     ]
    },
    {
     "data": {
      "text/plain": [
       "<keras.callbacks.History at 0x20da65083c8>"
      ]
     },
     "execution_count": 17,
     "metadata": {},
     "output_type": "execute_result"
    },
    {
     "name": "stdout",
     "output_type": "stream",
     "text": [
      "训练该模型耗时3.8235873303906667s!\n"
     ]
    }
   ],
   "source": [
    "# 利用神经网络建模\n",
    "from keras.models import Sequential\n",
    "from keras.layers.core import Dense, Activation\n",
    "import time \n",
    "start = time.clock()\n",
    "\n",
    "#输入层为３个节点，隐藏层６个节点\n",
    "model = Sequential() # 建立模型\n",
    "model.add(Dense(units =6, input_dim=3)) # 添加输入层、隐藏层节点\n",
    "model.add(Activation('relu')) # 使用relu作为激活函数，可以大幅度提高准确率\n",
    "model.add(Dense(units=1, input_dim=6)) # 添加输出层节点\n",
    "model.compile(loss = 'mean_squared_error', optimizer = 'adam') # 编译模型\n",
    "model.fit(x_train, y_train, epochs = 1000, batch_size=4,verbose=0) #训练模型，学习一千次\n",
    "end = time.clock()\n",
    "usetime = end-start\n",
    "print('训练该模型耗时'+ str(usetime) +'s!')\n",
    "# model.save_weights('2_net.model') # 将该模型存储 保存会崩溃"
   ]
  },
  {
   "cell_type": "code",
   "execution_count": 18,
   "metadata": {
    "ExecuteTime": {
     "end_time": "2018-10-08T01:06:05.888420Z",
     "start_time": "2018-10-08T01:06:05.583238Z"
    }
   },
   "outputs": [
    {
     "data": {
      "image/png": "[encoded data removed]",
      "text/plain": [
       "<Figure size 504x504 with 1 Axes>"
      ]
     },
     "metadata": {},
     "output_type": "display_data"
    }
   ],
   "source": [
    "# 预测并还原结果\n",
    "x = ((data[feature] - data_mean[feature])/data_std[feature]).as_matrix()\n",
    "data['y_pred'] = model.predict(x) * data_std['y'] + data_mean['y']\n",
    "\n",
    "import matplotlib.pyplot as plt # 画出预测结果图\n",
    "plt.rc('figure',figsize=(7,7))\n",
    "p = data[['y','y_pred']].plot(style=['b-o', 'r-*'])\n",
    "plt.show()"
   ]
  },
  {
   "cell_type": "code",
   "execution_count": null,
   "metadata": {},
   "outputs": [],
   "source": []
  }
 ],
 "metadata": {
  "hide_input": false,
  "kernelspec": {
   "display_name": "Python 3",
   "language": "python",
   "name": "python3"
  },
  "language_info": {
   "codemirror_mode": {
    "name": "ipython",
    "version": 3
   },
   "file_extension": ".py",
   "mimetype": "text/x-python",
   "name": "python",
   "nbconvert_exporter": "python",
   "pygments_lexer": "ipython3",
   "version": "3.6.6"
  },
  "toc": {
   "base_numbering": 1,
   "nav_menu": {},
   "number_sections": true,
   "sideBar": true,
   "skip_h1_title": false,
   "title_cell": "Table of Contents",
   "title_sidebar": "Contents",
   "toc_cell": false,
   "toc_position": {},
   "toc_section_display": true,
   "toc_window_display": false
  },
  "varInspector": {
   "cols": {
    "lenName": 16,
    "lenType": 16,
    "lenVar": 40
   },
   "kernels_config": {
    "python": {
     "delete_cmd_postfix": "",
     "delete_cmd_prefix": "del ",
     "library": "var_list.py",
     "varRefreshCmd": "print(var_dic_list())"
    },
    "r": {
     "delete_cmd_postfix": ") ",
     "delete_cmd_prefix": "rm(",
     "library": "var_list.r",
     "varRefreshCmd": "cat(var_dic_list()) "
    }
   },
   "types_to_exclude": [
    "module",
    "function",
    "builtin_function_or_method",
    "instance",
    "_Feature"
   ],
   "window_display": false
  }
 },
 "nbformat": 4,
 "nbformat_minor": 2
}
