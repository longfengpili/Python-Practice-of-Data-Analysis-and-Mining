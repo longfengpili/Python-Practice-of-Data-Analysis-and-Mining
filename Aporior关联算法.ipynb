{
 "cells": [
  {
   "cell_type": "markdown",
   "metadata": {},
   "source": [
    "# Aporior关联算法\n",
    "数据挖掘十大算法之Apriori详解 - CSDN博客 https://blog.csdn.net/baimafujinji/article/details/53456931"
   ]
  },
  {
   "cell_type": "markdown",
   "metadata": {},
   "source": [
    "> 大多数关联规则挖掘算法通常采用的一种策略是，将关联规则挖掘任务分解为如下两个主要的子任务。\n",
    "\n",
    "+ 频繁项集产生：其目标是发现满足最小支持度阈值的所有项集，这些项集称作频繁项集（frequent itemset）。\n",
    "+ 规则的产生：其目标是从上一步发现的频繁项集中提取所有高置信度的规则，这些规则称作强规则（strong rule）。"
   ]
  },
  {
   "cell_type": "markdown",
   "metadata": {},
   "source": [
    "+ Apriori定律1：如果一个集合是频繁项集，则它的所有子集都是频繁项集。\n",
    "\n",
    "例如：假设一个集合{A,B}是频繁项集，即A、B同时出现在一条记录的次数大于等于最小支持度min_support，则它的子集{A},{B}出现次数必定大于等于min_support，即它的子集都是频繁项集。\n",
    "\n",
    "+ Apriori定律2：如果一个集合不是频繁项集，则它的所有超集都不是频繁项集。\n",
    "\n",
    "举例：假设集合{A}不是频繁项集，即A出现的次数小于 min_support，则它的任何超集如{A,B}出现的次数必定小于min_support，因此其超集必定也不是频繁项集。"
   ]
  },
  {
   "cell_type": "markdown",
   "metadata": {},
   "source": [
    "## 分拆"
   ]
  },
  {
   "cell_type": "code",
   "execution_count": 1,
   "metadata": {
    "ExecuteTime": {
     "end_time": "2018-07-05T01:07:25.721430Z",
     "start_time": "2018-07-05T01:07:25.716429Z"
    }
   },
   "outputs": [],
   "source": [
    "import random"
   ]
  },
  {
   "cell_type": "code",
   "execution_count": 2,
   "metadata": {
    "ExecuteTime": {
     "end_time": "2018-07-05T01:07:25.825436Z",
     "start_time": "2018-07-05T01:07:25.726430Z"
    }
   },
   "outputs": [],
   "source": [
    "l = list('ABCD')"
   ]
  },
  {
   "cell_type": "code",
   "execution_count": 3,
   "metadata": {
    "ExecuteTime": {
     "end_time": "2018-07-05T01:07:25.944442Z",
     "start_time": "2018-07-05T01:07:25.829436Z"
    }
   },
   "outputs": [],
   "source": [
    "def item_set(l):\n",
    "    item_set = []\n",
    "    for i in range(len(l)):\n",
    "        for j in range(i,len(l)):\n",
    "            if l[i][0] != l[j][0] and l[i][0] not in l[j]:\n",
    "                item = sorted([l[i][0]+l[j]])[0]\n",
    "                if item not in item_set:\n",
    "                    item_set.append(item)    \n",
    "    return item_set"
   ]
  },
  {
   "cell_type": "code",
   "execution_count": 4,
   "metadata": {
    "ExecuteTime": {
     "end_time": "2018-07-05T01:07:26.061449Z",
     "start_time": "2018-07-05T01:07:25.949443Z"
    }
   },
   "outputs": [],
   "source": [
    "def aporior_rule_1(df,support,confidence,ms='--'):\n",
    "    aporior_item = list(df.columns)\n",
    "    result = DataFrame(columns=['support','confidence'])\n",
    "  \n",
    "    n = 0\n",
    "    while len(aporior_item) > 0:\n",
    "        n += 1\n",
    "        aporior_item_temp = []\n",
    "        print('进行第{}次关联，共{}个item，分别是{}'.format(n,len(aporior_item),aporior_item))\n",
    "        for i in aporior_item:\n",
    "            p_support = 1.0*df[list(i)].prod(axis=1).sum()/len(df)  #支持度\n",
    "            #print('{}   {}'.format(ms.join(i),p))\n",
    "            if p_support >= support:\n",
    "                aporior_item_temp.append(i)   #达到最小支持度的就保留进行下一轮\n",
    "                \n",
    "                if len(i) >= 2: #只有一个字母直接pass\n",
    "                    for k in i:\n",
    "                        new_i = list(i).copy()\n",
    "                        new_i.remove(k)\n",
    "                        item = ms.join(new_i+[k])\n",
    "                        p_confindenc = 1.0*df[list(i)].prod(axis=1).sum()/df[k].sum()\n",
    "                else:\n",
    "                    item = i\n",
    "                    p_confindenc = 1.0*df[list(i)].prod(axis=1).sum()/df[i].sum()\n",
    "                \n",
    "    \n",
    "                    \n",
    "                if p_confindenc >= confidence:\n",
    "                    result.loc[item,'support'] = p_support\n",
    "                    result.loc[item,'confidence'] = p_confindenc\n",
    "            \n",
    "        aporior_item = item_set(aporior_item_temp)\n",
    "        \n",
    "    return result\n",
    "        "
   ]
  },
  {
   "cell_type": "code",
   "execution_count": 5,
   "metadata": {
    "ExecuteTime": {
     "end_time": "2018-07-05T01:07:26.303463Z",
     "start_time": "2018-07-05T01:07:26.067449Z"
    }
   },
   "outputs": [],
   "source": [
    "def aporior_rule(df,support,confidence,ms='--'):\n",
    "    aporior_item = list(df.columns)\n",
    "    result = DataFrame(columns=['support','confidence'])\n",
    "  \n",
    "    n = 0\n",
    "    while len(aporior_item) > 0:\n",
    "        n += 1\n",
    "        aporior_item_temp = []\n",
    "        print('进行第{}次关联，共{}个item，分别是{}'.format(n,len(aporior_item),aporior_item))\n",
    "        for i in aporior_item:\n",
    "            p_support = 1.0*df[list(i)].prod(axis=1).sum()/len(df)  #支持度\n",
    "            #print('{}   {}'.format(ms.join(i),p))\n",
    "            if p_support >= support:\n",
    "                aporior_item_temp.append(i)   #达到最小支持度的就保留进行下一轮\n",
    "                \n",
    "                for k in range(len(i)):\n",
    "                    item = ms.join(list(i[0:k]+i[k+1:len(i)+1]+i[k]))\n",
    "                    p_confindenc = 1.0*df[list(i)].prod(axis=1).sum()/df[i[k]].sum()  #置信度\n",
    "    \n",
    "                    \n",
    "                if p_confindenc >= confidence:\n",
    "                    result.loc[item,'support'] = p_support\n",
    "                    result.loc[item,'confidence'] = p_confindenc\n",
    "            \n",
    "        aporior_item = item_set(aporior_item_temp)\n",
    "        \n",
    "    return result\n",
    "        "
   ]
  },
  {
   "cell_type": "code",
   "execution_count": 6,
   "metadata": {
    "ExecuteTime": {
     "end_time": "2018-07-05T01:07:26.696485Z",
     "start_time": "2018-07-05T01:07:26.307463Z"
    }
   },
   "outputs": [
    {
     "data": {
      "text/plain": [
       "A    3\n",
       "B    7\n",
       "C    3\n",
       "D    5\n",
       "dtype: int64"
      ]
     },
     "execution_count": 6,
     "metadata": {},
     "output_type": "execute_result"
    },
    {
     "name": "stdout",
     "output_type": "stream",
     "text": [
      "本次Aporior关联算法支持度为【0】,置信度为【0】\n",
      "进行第1次关联，共4个item，分别是['A', 'B', 'C', 'D']\n",
      "进行第2次关联，共6个item，分别是['AB', 'AC', 'AD', 'BC', 'BD', 'CD']\n",
      "进行第3次关联，共4个item，分别是['ABC', 'ABD', 'ACD', 'BCD']\n",
      "进行第4次关联，共1个item，分别是['ABCD']\n"
     ]
    },
    {
     "data": {
      "text/html": [
       "<div>\n",
       "<style scoped>\n",
       "    .dataframe tbody tr th:only-of-type {\n",
       "        vertical-align: middle;\n",
       "    }\n",
       "\n",
       "    .dataframe tbody tr th {\n",
       "        vertical-align: top;\n",
       "    }\n",
       "\n",
       "    .dataframe thead th {\n",
       "        text-align: right;\n",
       "    }\n",
       "</style>\n",
       "<table border=\"1\" class=\"dataframe\">\n",
       "  <thead>\n",
       "    <tr style=\"text-align: right;\">\n",
       "      <th></th>\n",
       "      <th>support</th>\n",
       "      <th>confidence</th>\n",
       "    </tr>\n",
       "  </thead>\n",
       "  <tbody>\n",
       "    <tr>\n",
       "      <th>A</th>\n",
       "      <td>0.3</td>\n",
       "      <td>1</td>\n",
       "    </tr>\n",
       "    <tr>\n",
       "      <th>B</th>\n",
       "      <td>0.7</td>\n",
       "      <td>1</td>\n",
       "    </tr>\n",
       "    <tr>\n",
       "      <th>C</th>\n",
       "      <td>0.3</td>\n",
       "      <td>1</td>\n",
       "    </tr>\n",
       "    <tr>\n",
       "      <th>D</th>\n",
       "      <td>0.5</td>\n",
       "      <td>1</td>\n",
       "    </tr>\n",
       "    <tr>\n",
       "      <th>A--B</th>\n",
       "      <td>0.2</td>\n",
       "      <td>0.285714</td>\n",
       "    </tr>\n",
       "    <tr>\n",
       "      <th>A--C</th>\n",
       "      <td>0.1</td>\n",
       "      <td>0.333333</td>\n",
       "    </tr>\n",
       "    <tr>\n",
       "      <th>A--D</th>\n",
       "      <td>0.1</td>\n",
       "      <td>0.2</td>\n",
       "    </tr>\n",
       "    <tr>\n",
       "      <th>B--C</th>\n",
       "      <td>0.3</td>\n",
       "      <td>1</td>\n",
       "    </tr>\n",
       "    <tr>\n",
       "      <th>B--D</th>\n",
       "      <td>0.4</td>\n",
       "      <td>0.8</td>\n",
       "    </tr>\n",
       "    <tr>\n",
       "      <th>C--D</th>\n",
       "      <td>0.2</td>\n",
       "      <td>0.4</td>\n",
       "    </tr>\n",
       "    <tr>\n",
       "      <th>A--B--C</th>\n",
       "      <td>0.1</td>\n",
       "      <td>0.333333</td>\n",
       "    </tr>\n",
       "    <tr>\n",
       "      <th>A--B--D</th>\n",
       "      <td>0.1</td>\n",
       "      <td>0.2</td>\n",
       "    </tr>\n",
       "    <tr>\n",
       "      <th>A--C--D</th>\n",
       "      <td>0</td>\n",
       "      <td>0</td>\n",
       "    </tr>\n",
       "    <tr>\n",
       "      <th>B--C--D</th>\n",
       "      <td>0.2</td>\n",
       "      <td>0.4</td>\n",
       "    </tr>\n",
       "    <tr>\n",
       "      <th>A--B--C--D</th>\n",
       "      <td>0</td>\n",
       "      <td>0</td>\n",
       "    </tr>\n",
       "  </tbody>\n",
       "</table>\n",
       "</div>"
      ],
      "text/plain": [
       "           support confidence\n",
       "A              0.3          1\n",
       "B              0.7          1\n",
       "C              0.3          1\n",
       "D              0.5          1\n",
       "A--B           0.2   0.285714\n",
       "A--C           0.1   0.333333\n",
       "A--D           0.1        0.2\n",
       "B--C           0.3          1\n",
       "B--D           0.4        0.8\n",
       "C--D           0.2        0.4\n",
       "A--B--C        0.1   0.333333\n",
       "A--B--D        0.1        0.2\n",
       "A--C--D          0          0\n",
       "B--C--D        0.2        0.4\n",
       "A--B--C--D       0          0"
      ]
     },
     "execution_count": 6,
     "metadata": {},
     "output_type": "execute_result"
    },
    {
     "name": "stdout",
     "output_type": "stream",
     "text": [
      "进行第1次关联，共4个item，分别是['A', 'B', 'C', 'D']\n",
      "进行第2次关联，共6个item，分别是['AB', 'AC', 'AD', 'BC', 'BD', 'CD']\n",
      "进行第3次关联，共4个item，分别是['ABC', 'ABD', 'ACD', 'BCD']\n",
      "进行第4次关联，共1个item，分别是['ABCD']\n"
     ]
    },
    {
     "data": {
      "text/html": [
       "<div>\n",
       "<style scoped>\n",
       "    .dataframe tbody tr th:only-of-type {\n",
       "        vertical-align: middle;\n",
       "    }\n",
       "\n",
       "    .dataframe tbody tr th {\n",
       "        vertical-align: top;\n",
       "    }\n",
       "\n",
       "    .dataframe thead th {\n",
       "        text-align: right;\n",
       "    }\n",
       "</style>\n",
       "<table border=\"1\" class=\"dataframe\">\n",
       "  <thead>\n",
       "    <tr style=\"text-align: right;\">\n",
       "      <th></th>\n",
       "      <th>support</th>\n",
       "      <th>confidence</th>\n",
       "    </tr>\n",
       "  </thead>\n",
       "  <tbody>\n",
       "    <tr>\n",
       "      <th>A</th>\n",
       "      <td>0.3</td>\n",
       "      <td>1</td>\n",
       "    </tr>\n",
       "    <tr>\n",
       "      <th>B</th>\n",
       "      <td>0.7</td>\n",
       "      <td>1</td>\n",
       "    </tr>\n",
       "    <tr>\n",
       "      <th>C</th>\n",
       "      <td>0.3</td>\n",
       "      <td>1</td>\n",
       "    </tr>\n",
       "    <tr>\n",
       "      <th>D</th>\n",
       "      <td>0.5</td>\n",
       "      <td>1</td>\n",
       "    </tr>\n",
       "    <tr>\n",
       "      <th>A**B</th>\n",
       "      <td>0.2</td>\n",
       "      <td>0.285714</td>\n",
       "    </tr>\n",
       "    <tr>\n",
       "      <th>A**C</th>\n",
       "      <td>0.1</td>\n",
       "      <td>0.333333</td>\n",
       "    </tr>\n",
       "    <tr>\n",
       "      <th>A**D</th>\n",
       "      <td>0.1</td>\n",
       "      <td>0.2</td>\n",
       "    </tr>\n",
       "    <tr>\n",
       "      <th>B**C</th>\n",
       "      <td>0.3</td>\n",
       "      <td>1</td>\n",
       "    </tr>\n",
       "    <tr>\n",
       "      <th>B**D</th>\n",
       "      <td>0.4</td>\n",
       "      <td>0.8</td>\n",
       "    </tr>\n",
       "    <tr>\n",
       "      <th>C**D</th>\n",
       "      <td>0.2</td>\n",
       "      <td>0.4</td>\n",
       "    </tr>\n",
       "    <tr>\n",
       "      <th>A**B**C</th>\n",
       "      <td>0.1</td>\n",
       "      <td>0.333333</td>\n",
       "    </tr>\n",
       "    <tr>\n",
       "      <th>A**B**D</th>\n",
       "      <td>0.1</td>\n",
       "      <td>0.2</td>\n",
       "    </tr>\n",
       "    <tr>\n",
       "      <th>A**C**D</th>\n",
       "      <td>0</td>\n",
       "      <td>0</td>\n",
       "    </tr>\n",
       "    <tr>\n",
       "      <th>B**C**D</th>\n",
       "      <td>0.2</td>\n",
       "      <td>0.4</td>\n",
       "    </tr>\n",
       "    <tr>\n",
       "      <th>A**B**C**D</th>\n",
       "      <td>0</td>\n",
       "      <td>0</td>\n",
       "    </tr>\n",
       "  </tbody>\n",
       "</table>\n",
       "</div>"
      ],
      "text/plain": [
       "           support confidence\n",
       "A              0.3          1\n",
       "B              0.7          1\n",
       "C              0.3          1\n",
       "D              0.5          1\n",
       "A**B           0.2   0.285714\n",
       "A**C           0.1   0.333333\n",
       "A**D           0.1        0.2\n",
       "B**C           0.3          1\n",
       "B**D           0.4        0.8\n",
       "C**D           0.2        0.4\n",
       "A**B**C        0.1   0.333333\n",
       "A**B**D        0.1        0.2\n",
       "A**C**D          0          0\n",
       "B**C**D        0.2        0.4\n",
       "A**B**C**D       0          0"
      ]
     },
     "execution_count": 6,
     "metadata": {},
     "output_type": "execute_result"
    }
   ],
   "source": [
    "df = DataFrame(np.random.randint(2,size=(10,4)),columns=list('ABCD'))\n",
    "df.sum(axis=0)\n",
    "support = 0\n",
    "confidence = 0\n",
    "print('本次Aporior关联算法支持度为【{}】,置信度为【{}】'.format(support,confidence))\n",
    "aporior_rule_1(df,support,confidence,ms='--')\n",
    "aporior_rule(df,support,confidence,ms='**')"
   ]
  },
  {
   "cell_type": "code",
   "execution_count": null,
   "metadata": {},
   "outputs": [],
   "source": []
  }
 ],
 "metadata": {
  "hide_input": false,
  "kernelspec": {
   "display_name": "Python 3",
   "language": "python",
   "name": "python3"
  },
  "language_info": {
   "codemirror_mode": {
    "name": "ipython",
    "version": 3
   },
   "file_extension": ".py",
   "mimetype": "text/x-python",
   "name": "python",
   "nbconvert_exporter": "python",
   "pygments_lexer": "ipython3",
   "version": "3.6.3"
  },
  "toc": {
   "base_numbering": 1,
   "nav_menu": {},
   "number_sections": true,
   "sideBar": true,
   "skip_h1_title": false,
   "title_cell": "Table of Contents",
   "title_sidebar": "Contents",
   "toc_cell": false,
   "toc_position": {},
   "toc_section_display": true,
   "toc_window_display": false
  }
 },
 "nbformat": 4,
 "nbformat_minor": 2
}
