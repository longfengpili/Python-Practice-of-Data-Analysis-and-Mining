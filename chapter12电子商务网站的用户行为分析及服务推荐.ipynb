{
 "cells": [
  {
   "cell_type": "code",
   "execution_count": 168,
   "metadata": {
    "ExecuteTime": {
     "end_time": "2018-07-26T01:38:39.937443Z",
     "start_time": "2018-07-26T01:38:35.683199Z"
    },
    "scrolled": false
   },
   "outputs": [
    {
     "data": {
      "text/plain": [
       "<matplotlib.axes._subplots.AxesSubplot at 0x281956d8>"
      ]
     },
     "execution_count": 168,
     "metadata": {},
     "output_type": "execute_result"
    },
    {
     "name": "stdout",
     "output_type": "stream",
     "text": [
      "Rectangle(xy=(-0.4, 0), width=0.8, height=16676, angle=0)\n"
     ]
    },
    {
     "data": {
      "text/plain": [
       "Text(-0.4,16676,'669')"
      ]
     },
     "execution_count": 168,
     "metadata": {},
     "output_type": "execute_result"
    },
    {
     "name": "stdout",
     "output_type": "stream",
     "text": [
      "Rectangle(xy=(0.6, 0), width=0.8, height=669, angle=0)\n"
     ]
    },
    {
     "data": {
      "text/plain": [
       "Text(0.6,669,'669')"
      ]
     },
     "execution_count": 168,
     "metadata": {},
     "output_type": "execute_result"
    },
    {
     "name": "stdout",
     "output_type": "stream",
     "text": [
      "Rectangle(xy=(1.6, 0), width=0.8, height=48, angle=0)\n"
     ]
    },
    {
     "data": {
      "text/plain": [
       "Text(1.6,48,'669')"
      ]
     },
     "execution_count": 168,
     "metadata": {},
     "output_type": "execute_result"
    },
    {
     "name": "stdout",
     "output_type": "stream",
     "text": [
      "Rectangle(xy=(2.6, 0), width=0.8, height=188, angle=0)\n"
     ]
    },
    {
     "data": {
      "text/plain": [
       "Text(2.6,188,'669')"
      ]
     },
     "execution_count": 168,
     "metadata": {},
     "output_type": "execute_result"
    },
    {
     "name": "stdout",
     "output_type": "stream",
     "text": [
      "Rectangle(xy=(3.6, 0), width=0.8, height=7440, angle=0)\n"
     ]
    },
    {
     "data": {
      "text/plain": [
       "Text(3.6,7440,'669')"
      ]
     },
     "execution_count": 168,
     "metadata": {},
     "output_type": "execute_result"
    },
    {
     "name": "stdout",
     "output_type": "stream",
     "text": [
      "Rectangle(xy=(4.6, 0), width=0.8, height=8227, angle=0)\n"
     ]
    },
    {
     "data": {
      "text/plain": [
       "Text(4.6,8227,'669')"
      ]
     },
     "execution_count": 168,
     "metadata": {},
     "output_type": "execute_result"
    },
    {
     "name": "stdout",
     "output_type": "stream",
     "text": [
      "Rectangle(xy=(5.6, 0), width=0.8, height=759, angle=0)\n"
     ]
    },
    {
     "data": {
      "text/plain": [
       "Text(5.6,759,'669')"
      ]
     },
     "execution_count": 168,
     "metadata": {},
     "output_type": "execute_result"
    },
    {
     "data": {
      "image/png": "[encoded data removed]",
      "text/plain": [
       "<Figure size 432x288 with 1 Axes>"
      ]
     },
     "metadata": {},
     "output_type": "display_data"
    }
   ],
   "source": [
    "import pymysql\n",
    "conn = pymysql.Connect(host = '127.0.0.1', port = 3306, user = 'longfengpili', passwd = 'mysql@123456', db = 'chapter12', charset=\"utf8\")\n",
    "data = pd.read_sql('select * from all_gzdata',conn,chunksize=1000)\n",
    "counts = [i['fullURLId'].value_counts() for i in data] #逐块统计\n",
    "counts = pd.concat(counts).groupby(level=0).sum()\n",
    "counts = counts.reset_index()\n",
    "counts = counts.rename(columns={'index':'fullURLId','fullURLId':'counts'})\n",
    "counts['type'] = counts['fullURLId'].str.extract('(\\d{3})')\n",
    "counts_1 = counts.groupby('type')['counts'].sum()\n",
    "counts_2 = counts_1/counts_1.sum()\n",
    "fig,axes = plt.subplots(1,1)\n",
    "axes\n",
    "a = axes.bar(counts_1.index,counts_1.values)\n",
    "# b = axes[1].bar(counts_2.index,counts_2.values)\n",
    "for i in a:\n",
    "    print(i)\n",
    "    plt.text(i.get_x(),i.get_y()+i.get_height(),counts_1.values[1])"
   ]
  },
  {
   "cell_type": "code",
   "execution_count": null,
   "metadata": {},
   "outputs": [],
   "source": []
  }
 ],
 "metadata": {
  "hide_input": false,
  "kernelspec": {
   "display_name": "Python 3",
   "language": "python",
   "name": "python3"
  },
  "language_info": {
   "codemirror_mode": {
    "name": "ipython",
    "version": 3
   },
   "file_extension": ".py",
   "mimetype": "text/x-python",
   "name": "python",
   "nbconvert_exporter": "python",
   "pygments_lexer": "ipython3",
   "version": "3.6.3"
  },
  "toc": {
   "base_numbering": 1,
   "nav_menu": {},
   "number_sections": true,
   "sideBar": true,
   "skip_h1_title": false,
   "title_cell": "Table of Contents",
   "title_sidebar": "Contents",
   "toc_cell": false,
   "toc_position": {},
   "toc_section_display": true,
   "toc_window_display": false
  }
 },
 "nbformat": 4,
 "nbformat_minor": 2
}
