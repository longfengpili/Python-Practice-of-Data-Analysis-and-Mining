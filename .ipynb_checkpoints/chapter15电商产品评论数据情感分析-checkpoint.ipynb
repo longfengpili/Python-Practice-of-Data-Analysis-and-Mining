{
 "cells": [
  {
   "cell_type": "code",
   "execution_count": 7,
   "metadata": {
    "ExecuteTime": {
     "end_time": "2018-10-11T00:30:56.956567Z",
     "start_time": "2018-10-11T00:30:56.749982Z"
    }
   },
   "outputs": [
    {
     "data": {
      "text/html": [
       "<div>\n",
       "<style>\n",
       "    .dataframe thead tr:only-child th {\n",
       "        text-align: right;\n",
       "    }\n",
       "\n",
       "    .dataframe thead th {\n",
       "        text-align: left;\n",
       "    }\n",
       "\n",
       "    .dataframe tbody tr th {\n",
       "        vertical-align: top;\n",
       "    }\n",
       "</style>\n",
       "<table border=\"1\" class=\"dataframe\">\n",
       "  <thead>\n",
       "    <tr style=\"text-align: right;\">\n",
       "      <th></th>\n",
       "      <th>0</th>\n",
       "    </tr>\n",
       "  </thead>\n",
       "  <tbody>\n",
       "    <tr>\n",
       "      <th>0</th>\n",
       "      <td>京东商城信得过，买的放心，用的省心、安心、放心！</td>\n",
       "    </tr>\n",
       "    <tr>\n",
       "      <th>1</th>\n",
       "      <td>给公司宿舍买的，上门安装很快，快递也送的及时，不错的。给五分吧</td>\n",
       "    </tr>\n",
       "    <tr>\n",
       "      <th>2</th>\n",
       "      <td>美的值得信赖，质量不错</td>\n",
       "    </tr>\n",
       "    <tr>\n",
       "      <th>3</th>\n",
       "      <td>不错不错的哦，第一次在京东买这些产品，感觉相当好</td>\n",
       "    </tr>\n",
       "    <tr>\n",
       "      <th>4</th>\n",
       "      <td>很满意，水方一晚上都还是热的早上还能再洗，</td>\n",
       "    </tr>\n",
       "  </tbody>\n",
       "</table>\n",
       "</div>"
      ],
      "text/plain": [
       "                                 0\n",
       "0         京东商城信得过，买的放心，用的省心、安心、放心！\n",
       "1  给公司宿舍买的，上门安装很快，快递也送的及时，不错的。给五分吧\n",
       "2                      美的值得信赖，质量不错\n",
       "3         不错不错的哦，第一次在京东买这些产品，感觉相当好\n",
       "4            很满意，水方一晚上都还是热的早上还能再洗，"
      ]
     },
     "execution_count": 7,
     "metadata": {},
     "output_type": "execute_result"
    }
   ],
   "source": [
    "file = './原书代码数据/chapter15/demo/data/meidi_jd.txt'\n",
    "with open(file,'r',encoding='utf-8') as f:\n",
    "#     f.readline()\n",
    "    data = pd.read_csv(f,delimiter='\\t',header=None)\n",
    "data[:5]"
   ]
  },
  {
   "cell_type": "markdown",
   "metadata": {},
   "source": [
    "# 数据去重"
   ]
  },
  {
   "cell_type": "markdown",
   "metadata": {},
   "source": [
    "## 原始去重"
   ]
  },
  {
   "cell_type": "code",
   "execution_count": 16,
   "metadata": {
    "ExecuteTime": {
     "end_time": "2018-10-11T00:33:21.391763Z",
     "start_time": "2018-10-11T00:33:21.351501Z"
    }
   },
   "outputs": [
    {
     "data": {
      "text/plain": [
       "2336"
      ]
     },
     "execution_count": 16,
     "metadata": {},
     "output_type": "execute_result"
    }
   ],
   "source": [
    "data_unique = data[0].unique()\n",
    "len(data) - len(data_unique)"
   ]
  },
  {
   "cell_type": "markdown",
   "metadata": {},
   "source": [
    "## 机械压缩"
   ]
  },
  {
   "cell_type": "code",
   "execution_count": 57,
   "metadata": {
    "ExecuteTime": {
     "end_time": "2018-10-11T01:31:58.269849Z",
     "start_time": "2018-10-11T01:31:58.259968Z"
    }
   },
   "outputs": [
    {
     "name": "stdout",
     "output_type": "stream",
     "text": [
      "[] []\n",
      "['中'] []\n",
      "['中', '国'] []\n",
      "['中', '国', '中'] []\n",
      "['中', '国', '中', '国'] []\n",
      "['中', '国', '中', '国', '，'] []\n",
      "['中', '国', '中', '国', '，', '中'] []\n",
      "['中', '国', '中', '国', '，', '中', '国'] []\n",
      "['中', '国', '中', '国', '，', '中', '国', '红'] []\n",
      "['中', '国', '中', '国', '，', '中', '国', '红', '红'] []\n",
      "['中', '国', '中', '国', '，', '中', '国', '红', '红', '的'] []\n",
      "['中', '国', '中', '国', '，', '中', '国', '红', '红', '的', '的'] []\n",
      "['中', '国', '中', '国', '，', '中', '国', '红', '红', '的', '的', '的'] []\n",
      "['中', '国', '中', '国', '，', '中', '国', '红', '红', '的', '的', '的', '的'] []\n",
      "['中', '国', '中', '国', '，', '中', '国', '红', '红', '的', '的', '的', '的', '红'] []\n",
      "['中', '国', '中', '国', '，', '中', '国', '红', '红', '的', '的', '的', '的', '红', '红'] []\n",
      "['中', '国', '中', '国', '，', '中', '国', '红', '红', '的', '的', '的', '的', '红', '红', '德'] []\n",
      "['中', '国', '中', '国', '，', '中', '国', '红', '红', '的', '的', '的', '的', '红', '红', '德', '德'] []\n",
      "['中', '国', '中', '国', '，', '中', '国', '红', '红', '的', '的', '的', '的', '红', '红', '德', '德', '红'] []\n",
      "['中', '国', '中', '国', '，', '中', '国', '红', '红', '的', '的', '的', '的', '红', '红', '德', '德', '红', '红'] []\n",
      "['中', '国', '中', '国', '，', '中', '国', '红', '红', '的', '的', '的', '的', '红', '红', '德', '德', '红', '红', '德'] []\n",
      "['中', '国', '中', '国', '，', '中', '国', '红', '红', '的', '的', '的', '的', '红', '红', '德', '德', '红', '红', '德', '德'] [] []\n",
      "中国中国，中国红红的的的的红红德德红红德德\n"
     ]
    }
   ],
   "source": [
    "def str_compress(str):\n",
    "    punctuation_list = [',','，','.','。','!','！','?','？']\n",
    "    list_all = []\n",
    "    list_1 = []\n",
    "    list_2 = []\n",
    "    for i in str:\n",
    "        print(list_1,list_2)\n",
    "        if len(list_2) > 0 and list_2 + [i] == list_1[len(list_2)+1:]:\n",
    "            print('t')\n",
    "            list_2.append(i)\n",
    "        else:\n",
    "            list_1.extend(list_2)\n",
    "            list_1.append(i)\n",
    "            list_2 = []\n",
    "        \n",
    "        elif i in list_1:\n",
    "            list_2.append(i)\n",
    "        elif i in punctuation_list:\n",
    "            if len(list_2) >= 2:\n",
    "                list_2 = []\n",
    "                list_1.append(i)\n",
    "                list_all.extend(list_1)\n",
    "                list_1 = []\n",
    "            else:\n",
    "                list_1.extend(list_2)\n",
    "                list_1.append(i)\n",
    "                list_all.extend(list_1)\n",
    "                list_1 = []\n",
    "        elif len(list_2) >= 2:\n",
    "            list_2 = []\n",
    "            list_1.append(i)\n",
    "        elif len(list_2) == 1:\n",
    "#             print(i)\n",
    "            list_1.extend(list_2)\n",
    "            list_1.append(i)\n",
    "            list_2 = []\n",
    "        else:\n",
    "            list_1.append(i)\n",
    "            \n",
    "\n",
    "    if len(list_1) > 0:\n",
    "        list_all.extend(list_1)\n",
    "        list_1 = []\n",
    "        \n",
    "    if len(list_2) > 0:\n",
    "        list_all.extend(list_2)\n",
    "        list_2 = []\n",
    "    \n",
    "    \n",
    "            \n",
    "    print(list_all,list_1,list_2)\n",
    "    print(''.join(list_all))\n",
    "        \n",
    "str_compress('中国中国，中国红红的的的的红红德德红红德德')"
   ]
  },
  {
   "cell_type": "code",
   "execution_count": null,
   "metadata": {},
   "outputs": [],
   "source": []
  }
 ],
 "metadata": {
  "hide_input": false,
  "kernelspec": {
   "display_name": "Python 3",
   "language": "python",
   "name": "python3"
  },
  "language_info": {
   "codemirror_mode": {
    "name": "ipython",
    "version": 3
   },
   "file_extension": ".py",
   "mimetype": "text/x-python",
   "name": "python",
   "nbconvert_exporter": "python",
   "pygments_lexer": "ipython3",
   "version": "3.6.6"
  },
  "toc": {
   "base_numbering": 1,
   "nav_menu": {},
   "number_sections": true,
   "sideBar": true,
   "skip_h1_title": false,
   "title_cell": "Table of Contents",
   "title_sidebar": "Contents",
   "toc_cell": false,
   "toc_position": {},
   "toc_section_display": true,
   "toc_window_display": false
  },
  "varInspector": {
   "cols": {
    "lenName": 16,
    "lenType": 16,
    "lenVar": 40
   },
   "kernels_config": {
    "python": {
     "delete_cmd_postfix": "",
     "delete_cmd_prefix": "del ",
     "library": "var_list.py",
     "varRefreshCmd": "print(var_dic_list())"
    },
    "r": {
     "delete_cmd_postfix": ") ",
     "delete_cmd_prefix": "rm(",
     "library": "var_list.r",
     "varRefreshCmd": "cat(var_dic_list()) "
    }
   },
   "types_to_exclude": [
    "module",
    "function",
    "builtin_function_or_method",
    "instance",
    "_Feature"
   ],
   "window_display": false
  }
 },
 "nbformat": 4,
 "nbformat_minor": 2
}
