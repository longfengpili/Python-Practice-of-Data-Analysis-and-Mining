{
 "cells": [
  {
   "cell_type": "markdown",
   "metadata": {},
   "source": [
    "# Aporior关联算法\n",
    "数据挖掘十大算法之Apriori详解 - CSDN博客 https://blog.csdn.net/baimafujinji/article/details/53456931"
   ]
  },
  {
   "cell_type": "markdown",
   "metadata": {},
   "source": [
    "> 大多数关联规则挖掘算法通常采用的一种策略是，将关联规则挖掘任务分解为如下两个主要的子任务。\n",
    "\n",
    "+ 频繁项集产生：其目标是发现满足最小支持度阈值的所有项集，这些项集称作频繁项集（frequent itemset）。\n",
    "+ 规则的产生：其目标是从上一步发现的频繁项集中提取所有高置信度的规则，这些规则称作强规则（strong rule）。"
   ]
  },
  {
   "cell_type": "markdown",
   "metadata": {},
   "source": [
    "+ Apriori定律1：如果一个集合是频繁项集，则它的所有子集都是频繁项集。\n",
    "\n",
    "例如：假设一个集合{A,B}是频繁项集，即A、B同时出现在一条记录的次数大于等于最小支持度min_support，则它的子集{A},{B}出现次数必定大于等于min_support，即它的子集都是频繁项集。\n",
    "\n",
    "+ Apriori定律2：如果一个集合不是频繁项集，则它的所有超集都不是频繁项集。\n",
    "\n",
    "举例：假设集合{A}不是频繁项集，即A出现的次数小于 min_support，则它的任何超集如{A,B}出现的次数必定小于min_support，因此其超集必定也不是频繁项集。"
   ]
  },
  {
   "cell_type": "markdown",
   "metadata": {},
   "source": [
    "## 分拆"
   ]
  },
  {
   "cell_type": "code",
   "execution_count": 23,
   "metadata": {
    "ExecuteTime": {
     "end_time": "2018-07-04T01:29:24.351660Z",
     "start_time": "2018-07-04T01:29:24.345660Z"
    }
   },
   "outputs": [],
   "source": [
    "import random"
   ]
  },
  {
   "cell_type": "code",
   "execution_count": 24,
   "metadata": {
    "ExecuteTime": {
     "end_time": "2018-07-04T01:29:24.550672Z",
     "start_time": "2018-07-04T01:29:24.486668Z"
    }
   },
   "outputs": [],
   "source": [
    "l = list('ABCD')"
   ]
  },
  {
   "cell_type": "code",
   "execution_count": 2,
   "metadata": {
    "ExecuteTime": {
     "end_time": "2018-07-04T01:22:36.016305Z",
     "start_time": "2018-07-04T01:22:35.861296Z"
    }
   },
   "outputs": [],
   "source": [
    "def item_set(l):\n",
    "    item_set = []\n",
    "    for i in range(len(l)):\n",
    "        for j in range(i,len(l)):\n",
    "            if l[i][0] != l[j][0] and l[i][0] not in l[j]:\n",
    "                item = sorted([l[i][0]+l[j]])[0]\n",
    "                if item not in item_set:\n",
    "                    item_set.append(item)    \n",
    "    return item_set"
   ]
  },
  {
   "cell_type": "code",
   "execution_count": 5,
   "metadata": {
    "ExecuteTime": {
     "end_time": "2018-07-04T01:23:16.489620Z",
     "start_time": "2018-07-04T01:23:16.474619Z"
    }
   },
   "outputs": [],
   "source": [
    "def aporior_rule(df,support,confidence,ms='--'):\n",
    "    aporior_item = list(df.columns)\n",
    "    result = DataFrame(columns=['support','confidence'])\n",
    "  \n",
    "    k = 0\n",
    "    while len(aporior_item) > 0:\n",
    "        k += 1\n",
    "        aporior_item_temp = []\n",
    "        print('进行第{}次关联，共{}个item，分别是{}'.format(k,len(aporior_item),aporior_item))\n",
    "        for i in aporior_item:\n",
    "            #print('item:{}'.format(i))\n",
    "            p = 1.0*df[list(i)].prod(axis=1).sum()/len(df)\n",
    "            #print('{}   {}'.format(ms.join(i),p))\n",
    "            if p >= support:\n",
    "                aporior_item_temp.append(i)\n",
    "                result.loc[i,'support'] = p\n",
    "        aporior_item = item_set(aporior_item_temp)\n",
    "        \n",
    "    print(result)\n",
    "        "
   ]
  },
  {
   "cell_type": "code",
   "execution_count": 62,
   "metadata": {
    "ExecuteTime": {
     "end_time": "2018-07-04T01:41:42.641888Z",
     "start_time": "2018-07-04T01:41:42.543882Z"
    }
   },
   "outputs": [
    {
     "name": "stdout",
     "output_type": "stream",
     "text": [
      "本次Aporior关联算法支持度为【0.026156449680327952】\n"
     ]
    },
    {
     "data": {
      "text/plain": [
       "0     640\n",
       "1    2459\n",
       "2    3775\n",
       "3    2467\n",
       "4     659\n",
       "dtype: int64"
      ]
     },
     "execution_count": 62,
     "metadata": {},
     "output_type": "execute_result"
    },
    {
     "name": "stdout",
     "output_type": "stream",
     "text": [
      "进行第1次关联，共4个item，分别是['A', 'B', 'C', 'D']\n",
      "进行第2次关联，共6个item，分别是['AB', 'AC', 'AD', 'BC', 'BD', 'CD']\n",
      "进行第3次关联，共4个item，分别是['ABC', 'ABD', 'ACD', 'BCD']\n",
      "进行第4次关联，共1个item，分别是['ABCD']\n",
      "     support confidence\n",
      "A     0.5105        NaN\n",
      "B     0.4968        NaN\n",
      "C     0.5022        NaN\n",
      "D     0.4951        NaN\n",
      "AB    0.2537        NaN\n",
      "AC    0.2569        NaN\n",
      "AD    0.2528        NaN\n",
      "BC    0.2555        NaN\n",
      "BD    0.2482        NaN\n",
      "CD    0.2459        NaN\n",
      "ABC   0.1296        NaN\n",
      "ABD   0.1282        NaN\n",
      "ACD    0.127        NaN\n",
      "BCD   0.1255        NaN\n",
      "ABCD  0.0659        NaN\n"
     ]
    }
   ],
   "source": [
    "df = DataFrame(np.random.randint(2,size=(10000,4)),columns=list('ABCD'))\n",
    "support = random.random()*random.random()\n",
    "confidence = 0.8\n",
    "print('本次Aporior关联算法支持度为【{}】'.format(support))\n",
    "df.sum(axis=1).value_counts().sort_index()\n",
    "aporior_rule(df,support,confidence,ms='--')"
   ]
  },
  {
   "cell_type": "code",
   "execution_count": null,
   "metadata": {},
   "outputs": [],
   "source": []
  }
 ],
 "metadata": {
  "hide_input": false,
  "kernelspec": {
   "display_name": "Python 3",
   "language": "python",
   "name": "python3"
  },
  "language_info": {
   "codemirror_mode": {
    "name": "ipython",
    "version": 3
   },
   "file_extension": ".py",
   "mimetype": "text/x-python",
   "name": "python",
   "nbconvert_exporter": "python",
   "pygments_lexer": "ipython3",
   "version": "3.6.3"
  },
  "toc": {
   "base_numbering": 1,
   "nav_menu": {},
   "number_sections": true,
   "sideBar": true,
   "skip_h1_title": false,
   "title_cell": "Table of Contents",
   "title_sidebar": "Contents",
   "toc_cell": false,
   "toc_position": {},
   "toc_section_display": true,
   "toc_window_display": false
  }
 },
 "nbformat": 4,
 "nbformat_minor": 2
}
